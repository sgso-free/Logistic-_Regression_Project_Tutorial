{
    "cells": [
        {
            "cell_type": "markdown",
            "metadata": {},
            "source": [
                "# Logistic Regression Project Tutorial\n",
                "\n",
                "\n",
                "Bank Marketing Campaign:\n",
                "\n",
                "Business Understanding:\n",
                "\n",
                "Term deposits allow banks to hold money for an specific amount of time, which allows the bank to use that money for better investments. The marketing campaigns for this product were based on phone calls. Often, more than one contact to the same client was required, in order to know if the term deposit would be or not subscribed.\n",
                "\n",
                "Problem Description:\n",
                "\n",
                "Portuguese bank is having a decrease in its revenue so they want to be able to identify existing clients that have a higher chance to subscribe a term deposit. This will allow the bank to focus marketing efforts on those clients and avoid wasting money and time on clients that will probably not subscribe, as they want to increase their revenue.\n",
                "\n",
                "To approach this problem we will create a classification algorithm that helps predict if a client will subscribe or not a term deposit."
            ]
        },
        {
            "cell_type": "markdown",
            "metadata": {},
            "source": [
                "### Features:\n",
                "- Age: (numerical)\n",
                "- Job: Type of Job (categorical)\n",
                "- Marital: marital status (categorical)\n",
                "- Education: (categorical)\n",
                "- Default: has credit in default? (categorical)\n",
                "- Housing: has housing loan? (categorical)\n",
                "- Loan: has personal loan? (categorical)\n",
                "- contact: contact communication type (categorcial)\n",
                "- month: last contact month of year (categorical)\n",
                "- day_of_week: last contact day of the week (categorical)\n",
                "- duration: last contact duration, in seconds (numerical)\n",
                "    - Important note: this output highly affects the output target (if duration = 0, then y = 'no'). Yet, the duration is not known before a call is performed. Also, after the end of the call, y is obviously known. Consider if you should include it or not for a realistic predictive model.\n",
                "- campaign: number of contacts performed during this campaign and for this client (numerical)\n",
                "- pdays: number of days that passed by after the client was last contacted from a previous campaign (numeric; 999 - means client was not previously contacted)\n",
                "- previous: number of contacts performed before this campaign and for this client (numerical)\n",
                "- poutcome: outcome of the previous marketing campaign (categorical)\n",
                "\n",
                "    - Important note: this attribute has three categories: 'failure', 'success' and 'non-existent'. 86% of the data falls into 'non-existent' category.\n",
                "\n",
                "- emp.var.rate: employment variation rate - quarterly indicator (numeric)\n",
                "- cons.price.idx: consumer price index- monthly indicator (numeric)\n",
                "- cons.conf.idx: consumer confidence index - monthly indicator (numeric)\n",
                "- euribor3m: euribor 3 month rate: - daily indicator(numeric)\n",
                "- nr.employed: number of employees - quarterly indicator (numeric)\n",
                "### Target variable:\n",
                "\n",
                "y: has the client subscribed a term deposit?"
            ]
        },
        {
            "cell_type": "markdown",
            "metadata": {},
            "source": [
                "# Step 0 - Import Library"
            ]
        },
        {
            "cell_type": "code",
            "execution_count": 3,
            "metadata": {},
            "outputs": [],
            "source": [
                "import pandas as pd\n",
                "import numpy as np\n",
                "import seaborn as sns\n",
                "import matplotlib.pyplot as plt\n",
                "%matplotlib inline\n"
            ]
        },
        {
            "cell_type": "markdown",
            "metadata": {},
            "source": [
                "# Setp 1 - Import and Basic Explored Data"
            ]
        },
        {
            "cell_type": "code",
            "execution_count": 4,
            "metadata": {},
            "outputs": [
                {
                    "name": "stdout",
                    "output_type": "stream",
                    "text": [
                        "<class 'pandas.core.frame.DataFrame'>\n",
                        "RangeIndex: 41188 entries, 0 to 41187\n",
                        "Data columns (total 21 columns):\n",
                        " #   Column          Non-Null Count  Dtype  \n",
                        "---  ------          --------------  -----  \n",
                        " 0   age             41188 non-null  int64  \n",
                        " 1   job             41188 non-null  object \n",
                        " 2   marital         41188 non-null  object \n",
                        " 3   education       41188 non-null  object \n",
                        " 4   default         41188 non-null  object \n",
                        " 5   housing         41188 non-null  object \n",
                        " 6   loan            41188 non-null  object \n",
                        " 7   contact         41188 non-null  object \n",
                        " 8   month           41188 non-null  object \n",
                        " 9   day_of_week     41188 non-null  object \n",
                        " 10  duration        41188 non-null  int64  \n",
                        " 11  campaign        41188 non-null  int64  \n",
                        " 12  pdays           41188 non-null  int64  \n",
                        " 13  previous        41188 non-null  int64  \n",
                        " 14  poutcome        41188 non-null  object \n",
                        " 15  emp.var.rate    41188 non-null  float64\n",
                        " 16  cons.price.idx  41188 non-null  float64\n",
                        " 17  cons.conf.idx   41188 non-null  float64\n",
                        " 18  euribor3m       41188 non-null  float64\n",
                        " 19  nr.employed     41188 non-null  float64\n",
                        " 20  y               41188 non-null  object \n",
                        "dtypes: float64(5), int64(5), object(11)\n",
                        "memory usage: 6.6+ MB\n"
                    ]
                }
            ],
            "source": [
                "url = 'https://raw.githubusercontent.com/4GeeksAcademy/logistic-regression-project-tutorial/main/bank-marketing-campaign-data.csv'\n",
                "df=pd.read_csv(url, sep=\";\")\n",
                "df.info()\n"
            ]
        },
        {
            "cell_type": "markdown",
            "metadata": {},
            "source": [
                "Note:\n",
                "    - not null value"
            ]
        },
        {
            "cell_type": "code",
            "execution_count": 5,
            "metadata": {},
            "outputs": [
                {
                    "data": {
                        "text/html": [
                            "<div>\n",
                            "<style scoped>\n",
                            "    .dataframe tbody tr th:only-of-type {\n",
                            "        vertical-align: middle;\n",
                            "    }\n",
                            "\n",
                            "    .dataframe tbody tr th {\n",
                            "        vertical-align: top;\n",
                            "    }\n",
                            "\n",
                            "    .dataframe thead th {\n",
                            "        text-align: right;\n",
                            "    }\n",
                            "</style>\n",
                            "<table border=\"1\" class=\"dataframe\">\n",
                            "  <thead>\n",
                            "    <tr style=\"text-align: right;\">\n",
                            "      <th></th>\n",
                            "      <th>age</th>\n",
                            "      <th>job</th>\n",
                            "      <th>marital</th>\n",
                            "      <th>education</th>\n",
                            "      <th>default</th>\n",
                            "      <th>housing</th>\n",
                            "      <th>loan</th>\n",
                            "      <th>contact</th>\n",
                            "      <th>month</th>\n",
                            "      <th>day_of_week</th>\n",
                            "      <th>...</th>\n",
                            "      <th>campaign</th>\n",
                            "      <th>pdays</th>\n",
                            "      <th>previous</th>\n",
                            "      <th>poutcome</th>\n",
                            "      <th>emp.var.rate</th>\n",
                            "      <th>cons.price.idx</th>\n",
                            "      <th>cons.conf.idx</th>\n",
                            "      <th>euribor3m</th>\n",
                            "      <th>nr.employed</th>\n",
                            "      <th>y</th>\n",
                            "    </tr>\n",
                            "  </thead>\n",
                            "  <tbody>\n",
                            "    <tr>\n",
                            "      <th>17897</th>\n",
                            "      <td>37</td>\n",
                            "      <td>admin.</td>\n",
                            "      <td>single</td>\n",
                            "      <td>high.school</td>\n",
                            "      <td>no</td>\n",
                            "      <td>yes</td>\n",
                            "      <td>no</td>\n",
                            "      <td>telephone</td>\n",
                            "      <td>jul</td>\n",
                            "      <td>tue</td>\n",
                            "      <td>...</td>\n",
                            "      <td>34</td>\n",
                            "      <td>999</td>\n",
                            "      <td>0</td>\n",
                            "      <td>nonexistent</td>\n",
                            "      <td>1.4</td>\n",
                            "      <td>93.918</td>\n",
                            "      <td>-42.7</td>\n",
                            "      <td>4.961</td>\n",
                            "      <td>5228.1</td>\n",
                            "      <td>no</td>\n",
                            "    </tr>\n",
                            "    <tr>\n",
                            "      <th>2456</th>\n",
                            "      <td>48</td>\n",
                            "      <td>blue-collar</td>\n",
                            "      <td>married</td>\n",
                            "      <td>unknown</td>\n",
                            "      <td>unknown</td>\n",
                            "      <td>no</td>\n",
                            "      <td>no</td>\n",
                            "      <td>telephone</td>\n",
                            "      <td>may</td>\n",
                            "      <td>tue</td>\n",
                            "      <td>...</td>\n",
                            "      <td>2</td>\n",
                            "      <td>999</td>\n",
                            "      <td>0</td>\n",
                            "      <td>nonexistent</td>\n",
                            "      <td>1.1</td>\n",
                            "      <td>93.994</td>\n",
                            "      <td>-36.4</td>\n",
                            "      <td>4.856</td>\n",
                            "      <td>5191.0</td>\n",
                            "      <td>no</td>\n",
                            "    </tr>\n",
                            "    <tr>\n",
                            "      <th>13242</th>\n",
                            "      <td>23</td>\n",
                            "      <td>blue-collar</td>\n",
                            "      <td>married</td>\n",
                            "      <td>basic.9y</td>\n",
                            "      <td>unknown</td>\n",
                            "      <td>yes</td>\n",
                            "      <td>no</td>\n",
                            "      <td>cellular</td>\n",
                            "      <td>jul</td>\n",
                            "      <td>wed</td>\n",
                            "      <td>...</td>\n",
                            "      <td>1</td>\n",
                            "      <td>999</td>\n",
                            "      <td>0</td>\n",
                            "      <td>nonexistent</td>\n",
                            "      <td>1.4</td>\n",
                            "      <td>93.918</td>\n",
                            "      <td>-42.7</td>\n",
                            "      <td>4.962</td>\n",
                            "      <td>5228.1</td>\n",
                            "      <td>no</td>\n",
                            "    </tr>\n",
                            "    <tr>\n",
                            "      <th>26811</th>\n",
                            "      <td>44</td>\n",
                            "      <td>self-employed</td>\n",
                            "      <td>married</td>\n",
                            "      <td>basic.9y</td>\n",
                            "      <td>no</td>\n",
                            "      <td>yes</td>\n",
                            "      <td>no</td>\n",
                            "      <td>cellular</td>\n",
                            "      <td>nov</td>\n",
                            "      <td>thu</td>\n",
                            "      <td>...</td>\n",
                            "      <td>4</td>\n",
                            "      <td>999</td>\n",
                            "      <td>1</td>\n",
                            "      <td>failure</td>\n",
                            "      <td>-0.1</td>\n",
                            "      <td>93.200</td>\n",
                            "      <td>-42.0</td>\n",
                            "      <td>4.076</td>\n",
                            "      <td>5195.8</td>\n",
                            "      <td>no</td>\n",
                            "    </tr>\n",
                            "    <tr>\n",
                            "      <th>16067</th>\n",
                            "      <td>40</td>\n",
                            "      <td>admin.</td>\n",
                            "      <td>married</td>\n",
                            "      <td>high.school</td>\n",
                            "      <td>no</td>\n",
                            "      <td>no</td>\n",
                            "      <td>no</td>\n",
                            "      <td>cellular</td>\n",
                            "      <td>jul</td>\n",
                            "      <td>tue</td>\n",
                            "      <td>...</td>\n",
                            "      <td>1</td>\n",
                            "      <td>999</td>\n",
                            "      <td>0</td>\n",
                            "      <td>nonexistent</td>\n",
                            "      <td>1.4</td>\n",
                            "      <td>93.918</td>\n",
                            "      <td>-42.7</td>\n",
                            "      <td>4.961</td>\n",
                            "      <td>5228.1</td>\n",
                            "      <td>no</td>\n",
                            "    </tr>\n",
                            "    <tr>\n",
                            "      <th>4200</th>\n",
                            "      <td>38</td>\n",
                            "      <td>services</td>\n",
                            "      <td>single</td>\n",
                            "      <td>high.school</td>\n",
                            "      <td>unknown</td>\n",
                            "      <td>yes</td>\n",
                            "      <td>no</td>\n",
                            "      <td>telephone</td>\n",
                            "      <td>may</td>\n",
                            "      <td>mon</td>\n",
                            "      <td>...</td>\n",
                            "      <td>3</td>\n",
                            "      <td>999</td>\n",
                            "      <td>0</td>\n",
                            "      <td>nonexistent</td>\n",
                            "      <td>1.1</td>\n",
                            "      <td>93.994</td>\n",
                            "      <td>-36.4</td>\n",
                            "      <td>4.858</td>\n",
                            "      <td>5191.0</td>\n",
                            "      <td>no</td>\n",
                            "    </tr>\n",
                            "    <tr>\n",
                            "      <th>21383</th>\n",
                            "      <td>41</td>\n",
                            "      <td>admin.</td>\n",
                            "      <td>married</td>\n",
                            "      <td>university.degree</td>\n",
                            "      <td>no</td>\n",
                            "      <td>no</td>\n",
                            "      <td>no</td>\n",
                            "      <td>cellular</td>\n",
                            "      <td>aug</td>\n",
                            "      <td>tue</td>\n",
                            "      <td>...</td>\n",
                            "      <td>5</td>\n",
                            "      <td>999</td>\n",
                            "      <td>0</td>\n",
                            "      <td>nonexistent</td>\n",
                            "      <td>1.4</td>\n",
                            "      <td>93.444</td>\n",
                            "      <td>-36.1</td>\n",
                            "      <td>4.963</td>\n",
                            "      <td>5228.1</td>\n",
                            "      <td>no</td>\n",
                            "    </tr>\n",
                            "    <tr>\n",
                            "      <th>37976</th>\n",
                            "      <td>41</td>\n",
                            "      <td>admin.</td>\n",
                            "      <td>married</td>\n",
                            "      <td>university.degree</td>\n",
                            "      <td>no</td>\n",
                            "      <td>no</td>\n",
                            "      <td>no</td>\n",
                            "      <td>cellular</td>\n",
                            "      <td>sep</td>\n",
                            "      <td>mon</td>\n",
                            "      <td>...</td>\n",
                            "      <td>3</td>\n",
                            "      <td>999</td>\n",
                            "      <td>0</td>\n",
                            "      <td>nonexistent</td>\n",
                            "      <td>-3.4</td>\n",
                            "      <td>92.379</td>\n",
                            "      <td>-29.8</td>\n",
                            "      <td>0.797</td>\n",
                            "      <td>5017.5</td>\n",
                            "      <td>no</td>\n",
                            "    </tr>\n",
                            "    <tr>\n",
                            "      <th>6201</th>\n",
                            "      <td>50</td>\n",
                            "      <td>services</td>\n",
                            "      <td>married</td>\n",
                            "      <td>basic.6y</td>\n",
                            "      <td>no</td>\n",
                            "      <td>no</td>\n",
                            "      <td>no</td>\n",
                            "      <td>telephone</td>\n",
                            "      <td>may</td>\n",
                            "      <td>tue</td>\n",
                            "      <td>...</td>\n",
                            "      <td>1</td>\n",
                            "      <td>999</td>\n",
                            "      <td>0</td>\n",
                            "      <td>nonexistent</td>\n",
                            "      <td>1.1</td>\n",
                            "      <td>93.994</td>\n",
                            "      <td>-36.4</td>\n",
                            "      <td>4.857</td>\n",
                            "      <td>5191.0</td>\n",
                            "      <td>no</td>\n",
                            "    </tr>\n",
                            "    <tr>\n",
                            "      <th>31340</th>\n",
                            "      <td>54</td>\n",
                            "      <td>management</td>\n",
                            "      <td>divorced</td>\n",
                            "      <td>university.degree</td>\n",
                            "      <td>no</td>\n",
                            "      <td>yes</td>\n",
                            "      <td>no</td>\n",
                            "      <td>cellular</td>\n",
                            "      <td>may</td>\n",
                            "      <td>wed</td>\n",
                            "      <td>...</td>\n",
                            "      <td>2</td>\n",
                            "      <td>12</td>\n",
                            "      <td>1</td>\n",
                            "      <td>success</td>\n",
                            "      <td>-1.8</td>\n",
                            "      <td>92.893</td>\n",
                            "      <td>-46.2</td>\n",
                            "      <td>1.334</td>\n",
                            "      <td>5099.1</td>\n",
                            "      <td>no</td>\n",
                            "    </tr>\n",
                            "  </tbody>\n",
                            "</table>\n",
                            "<p>10 rows × 21 columns</p>\n",
                            "</div>"
                        ],
                        "text/plain": [
                            "       age            job   marital          education  default housing loan  \\\n",
                            "17897   37         admin.    single        high.school       no     yes   no   \n",
                            "2456    48    blue-collar   married            unknown  unknown      no   no   \n",
                            "13242   23    blue-collar   married           basic.9y  unknown     yes   no   \n",
                            "26811   44  self-employed   married           basic.9y       no     yes   no   \n",
                            "16067   40         admin.   married        high.school       no      no   no   \n",
                            "4200    38       services    single        high.school  unknown     yes   no   \n",
                            "21383   41         admin.   married  university.degree       no      no   no   \n",
                            "37976   41         admin.   married  university.degree       no      no   no   \n",
                            "6201    50       services   married           basic.6y       no      no   no   \n",
                            "31340   54     management  divorced  university.degree       no     yes   no   \n",
                            "\n",
                            "         contact month day_of_week  ...  campaign  pdays  previous  \\\n",
                            "17897  telephone   jul         tue  ...        34    999         0   \n",
                            "2456   telephone   may         tue  ...         2    999         0   \n",
                            "13242   cellular   jul         wed  ...         1    999         0   \n",
                            "26811   cellular   nov         thu  ...         4    999         1   \n",
                            "16067   cellular   jul         tue  ...         1    999         0   \n",
                            "4200   telephone   may         mon  ...         3    999         0   \n",
                            "21383   cellular   aug         tue  ...         5    999         0   \n",
                            "37976   cellular   sep         mon  ...         3    999         0   \n",
                            "6201   telephone   may         tue  ...         1    999         0   \n",
                            "31340   cellular   may         wed  ...         2     12         1   \n",
                            "\n",
                            "          poutcome emp.var.rate  cons.price.idx  cons.conf.idx  euribor3m  \\\n",
                            "17897  nonexistent          1.4          93.918          -42.7      4.961   \n",
                            "2456   nonexistent          1.1          93.994          -36.4      4.856   \n",
                            "13242  nonexistent          1.4          93.918          -42.7      4.962   \n",
                            "26811      failure         -0.1          93.200          -42.0      4.076   \n",
                            "16067  nonexistent          1.4          93.918          -42.7      4.961   \n",
                            "4200   nonexistent          1.1          93.994          -36.4      4.858   \n",
                            "21383  nonexistent          1.4          93.444          -36.1      4.963   \n",
                            "37976  nonexistent         -3.4          92.379          -29.8      0.797   \n",
                            "6201   nonexistent          1.1          93.994          -36.4      4.857   \n",
                            "31340      success         -1.8          92.893          -46.2      1.334   \n",
                            "\n",
                            "       nr.employed   y  \n",
                            "17897       5228.1  no  \n",
                            "2456        5191.0  no  \n",
                            "13242       5228.1  no  \n",
                            "26811       5195.8  no  \n",
                            "16067       5228.1  no  \n",
                            "4200        5191.0  no  \n",
                            "21383       5228.1  no  \n",
                            "37976       5017.5  no  \n",
                            "6201        5191.0  no  \n",
                            "31340       5099.1  no  \n",
                            "\n",
                            "[10 rows x 21 columns]"
                        ]
                    },
                    "execution_count": 5,
                    "metadata": {},
                    "output_type": "execute_result"
                }
            ],
            "source": [
                "df.sample(10)"
            ]
        },
        {
            "cell_type": "markdown",
            "metadata": {},
            "source": [
                "## STEP 2 \n",
                "find patterns and valuable information about relationships between features"
            ]
        },
        {
            "cell_type": "code",
            "execution_count": 6,
            "metadata": {},
            "outputs": [
                {
                    "data": {
                        "image/png": "[encoded data removed]",
                        "text/plain": [
                            "<Figure size 720x720 with 12 Axes>"
                        ]
                    },
                    "metadata": {
                        "needs_background": "light"
                    },
                    "output_type": "display_data"
                }
            ],
            "source": [
                "df.hist(bins=10,figsize=(10,10),grid=False);\n",
                "plt.show()"
            ]
        },
        {
            "cell_type": "code",
            "execution_count": 7,
            "metadata": {},
            "outputs": [
                {
                    "name": "stdout",
                    "output_type": "stream",
                    "text": [
                        "Data distribution analysys\n"
                    ]
                },
                {
                    "data": {
                        "image/png": "[encoded data removed]",
                        "text/plain": [
                            "<Figure size 432x288 with 1 Axes>"
                        ]
                    },
                    "metadata": {
                        "needs_background": "light"
                    },
                    "output_type": "display_data"
                },
                {
                    "data": {
                        "image/png": "[encoded data removed]",
                        "text/plain": [
                            "<Figure size 432x288 with 1 Axes>"
                        ]
                    },
                    "metadata": {
                        "needs_background": "light"
                    },
                    "output_type": "display_data"
                },
                {
                    "data": {
                        "image/png": "[encoded data removed]",
                        "text/plain": [
                            "<Figure size 432x288 with 1 Axes>"
                        ]
                    },
                    "metadata": {
                        "needs_background": "light"
                    },
                    "output_type": "display_data"
                },
                {
                    "data": {
                        "image/png": "[encoded data removed]",
                        "text/plain": [
                            "<Figure size 432x288 with 1 Axes>"
                        ]
                    },
                    "metadata": {
                        "needs_background": "light"
                    },
                    "output_type": "display_data"
                },
                {
                    "data": {
                        "image/png": "[encoded data removed]",
                        "text/plain": [
                            "<Figure size 432x288 with 1 Axes>"
                        ]
                    },
                    "metadata": {
                        "needs_background": "light"
                    },
                    "output_type": "display_data"
                },
                {
                    "data": {
                        "image/png": "[encoded data removed]",
                        "text/plain": [
                            "<Figure size 432x288 with 1 Axes>"
                        ]
                    },
                    "metadata": {
                        "needs_background": "light"
                    },
                    "output_type": "display_data"
                },
                {
                    "data": {
                        "image/png": "[encoded data removed]",
                        "text/plain": [
                            "<Figure size 432x288 with 1 Axes>"
                        ]
                    },
                    "metadata": {
                        "needs_background": "light"
                    },
                    "output_type": "display_data"
                },
                {
                    "data": {
                        "image/png": "[encoded data removed]",
                        "text/plain": [
                            "<Figure size 432x288 with 1 Axes>"
                        ]
                    },
                    "metadata": {
                        "needs_background": "light"
                    },
                    "output_type": "display_data"
                },
                {
                    "data": {
                        "image/png": "[encoded data removed]",
                        "text/plain": [
                            "<Figure size 432x288 with 1 Axes>"
                        ]
                    },
                    "metadata": {
                        "needs_background": "light"
                    },
                    "output_type": "display_data"
                },
                {
                    "data": {
                        "image/png": "[encoded data removed]",
                        "text/plain": [
                            "<Figure size 432x288 with 1 Axes>"
                        ]
                    },
                    "metadata": {
                        "needs_background": "light"
                    },
                    "output_type": "display_data"
                },
                {
                    "data": {
                        "image/png": "[encoded data removed]",
                        "text/plain": [
                            "<Figure size 432x288 with 1 Axes>"
                        ]
                    },
                    "metadata": {
                        "needs_background": "light"
                    },
                    "output_type": "display_data"
                }
            ],
            "source": [
                "variables = df.columns[df.dtypes == 'object']\n",
                "\n",
                "# data distribution analysys\n",
                "print('Data distribution analysys')\n",
                "for v in variables:\n",
                "    data = df.sort_values(by=[v])\n",
                "    data[v].value_counts().plot(kind = 'bar')\n",
                "    plt.title(v)\n",
                "    plt.show()"
            ]
        },
        {
            "cell_type": "markdown",
            "metadata": {},
            "source": [
                "## Clean Data\n",
                "### Not null, but check duplicate"
            ]
        },
        {
            "cell_type": "code",
            "execution_count": 8,
            "metadata": {},
            "outputs": [
                {
                    "data": {
                        "text/plain": [
                            "False    41176\n",
                            "True        12\n",
                            "dtype: int64"
                        ]
                    },
                    "execution_count": 8,
                    "metadata": {},
                    "output_type": "execute_result"
                }
            ],
            "source": [
                "#check the amount odf duplicated\n",
                "df.duplicated(keep='first').value_counts()"
            ]
        },
        {
            "cell_type": "code",
            "execution_count": 9,
            "metadata": {},
            "outputs": [],
            "source": [
                "#have duplicate, drop\n",
                "df.drop_duplicates(keep='first', inplace=True, ignore_index=False)"
            ]
        },
        {
            "cell_type": "markdown",
            "metadata": {},
            "source": [
                "### in category feature, replace unknow value to more frecuency value"
            ]
        },
        {
            "cell_type": "code",
            "execution_count": 10,
            "metadata": {},
            "outputs": [
                {
                    "name": "stdout",
                    "output_type": "stream",
                    "text": [
                        "Change unknow in each object column\n",
                        " job to admin.\n",
                        " marital to married\n",
                        " education to university.degree\n",
                        " default to no\n",
                        " housing to yes\n",
                        " loan to no\n",
                        " contact to cellular\n",
                        " month to may\n",
                        " day_of_week to thu\n",
                        " poutcome to nonexistent\n",
                        " y to no\n"
                    ]
                }
            ],
            "source": [
                "#make change for all values\n",
                "#more frecuency value is the mode\n",
                "variables = df.columns[df.dtypes == 'object']\n",
                "\n",
                "print('Change unknow in each object column')\n",
                "for v in variables:\n",
                "    print(f' {v} to {df[v].mode()[0]}')\n",
                "    df.loc[df[v] == \"unknown\", v] = df[v].mode()[0]\n",
                "\n"
            ]
        },
        {
            "cell_type": "code",
            "execution_count": 11,
            "metadata": {},
            "outputs": [
                {
                    "data": {
                        "text/html": [
                            "<div>\n",
                            "<style scoped>\n",
                            "    .dataframe tbody tr th:only-of-type {\n",
                            "        vertical-align: middle;\n",
                            "    }\n",
                            "\n",
                            "    .dataframe tbody tr th {\n",
                            "        vertical-align: top;\n",
                            "    }\n",
                            "\n",
                            "    .dataframe thead th {\n",
                            "        text-align: right;\n",
                            "    }\n",
                            "</style>\n",
                            "<table border=\"1\" class=\"dataframe\">\n",
                            "  <thead>\n",
                            "    <tr style=\"text-align: right;\">\n",
                            "      <th></th>\n",
                            "      <th>age</th>\n",
                            "      <th>duration</th>\n",
                            "      <th>campaign</th>\n",
                            "      <th>pdays</th>\n",
                            "      <th>previous</th>\n",
                            "    </tr>\n",
                            "  </thead>\n",
                            "  <tbody>\n",
                            "    <tr>\n",
                            "      <th>count</th>\n",
                            "      <td>41176.00000</td>\n",
                            "      <td>41176.000000</td>\n",
                            "      <td>41176.000000</td>\n",
                            "      <td>41176.000000</td>\n",
                            "      <td>41176.000000</td>\n",
                            "    </tr>\n",
                            "    <tr>\n",
                            "      <th>mean</th>\n",
                            "      <td>40.02380</td>\n",
                            "      <td>258.315815</td>\n",
                            "      <td>2.567879</td>\n",
                            "      <td>962.464810</td>\n",
                            "      <td>0.173013</td>\n",
                            "    </tr>\n",
                            "    <tr>\n",
                            "      <th>std</th>\n",
                            "      <td>10.42068</td>\n",
                            "      <td>259.305321</td>\n",
                            "      <td>2.770318</td>\n",
                            "      <td>186.937102</td>\n",
                            "      <td>0.494964</td>\n",
                            "    </tr>\n",
                            "    <tr>\n",
                            "      <th>min</th>\n",
                            "      <td>17.00000</td>\n",
                            "      <td>0.000000</td>\n",
                            "      <td>1.000000</td>\n",
                            "      <td>0.000000</td>\n",
                            "      <td>0.000000</td>\n",
                            "    </tr>\n",
                            "    <tr>\n",
                            "      <th>25%</th>\n",
                            "      <td>32.00000</td>\n",
                            "      <td>102.000000</td>\n",
                            "      <td>1.000000</td>\n",
                            "      <td>999.000000</td>\n",
                            "      <td>0.000000</td>\n",
                            "    </tr>\n",
                            "    <tr>\n",
                            "      <th>50%</th>\n",
                            "      <td>38.00000</td>\n",
                            "      <td>180.000000</td>\n",
                            "      <td>2.000000</td>\n",
                            "      <td>999.000000</td>\n",
                            "      <td>0.000000</td>\n",
                            "    </tr>\n",
                            "    <tr>\n",
                            "      <th>75%</th>\n",
                            "      <td>47.00000</td>\n",
                            "      <td>319.000000</td>\n",
                            "      <td>3.000000</td>\n",
                            "      <td>999.000000</td>\n",
                            "      <td>0.000000</td>\n",
                            "    </tr>\n",
                            "    <tr>\n",
                            "      <th>max</th>\n",
                            "      <td>98.00000</td>\n",
                            "      <td>4918.000000</td>\n",
                            "      <td>56.000000</td>\n",
                            "      <td>999.000000</td>\n",
                            "      <td>7.000000</td>\n",
                            "    </tr>\n",
                            "  </tbody>\n",
                            "</table>\n",
                            "</div>"
                        ],
                        "text/plain": [
                            "               age      duration      campaign         pdays      previous\n",
                            "count  41176.00000  41176.000000  41176.000000  41176.000000  41176.000000\n",
                            "mean      40.02380    258.315815      2.567879    962.464810      0.173013\n",
                            "std       10.42068    259.305321      2.770318    186.937102      0.494964\n",
                            "min       17.00000      0.000000      1.000000      0.000000      0.000000\n",
                            "25%       32.00000    102.000000      1.000000    999.000000      0.000000\n",
                            "50%       38.00000    180.000000      2.000000    999.000000      0.000000\n",
                            "75%       47.00000    319.000000      3.000000    999.000000      0.000000\n",
                            "max       98.00000   4918.000000     56.000000    999.000000      7.000000"
                        ]
                    },
                    "execution_count": 11,
                    "metadata": {},
                    "output_type": "execute_result"
                }
            ],
            "source": [
                "df.describe(include=['int64'])\n",
                "#df[df['Age'].fillna(df['Age'].median(), inplace=True)"
            ]
        },
        {
            "cell_type": "code",
            "execution_count": 12,
            "metadata": {},
            "outputs": [
                {
                    "data": {
                        "text/html": [
                            "<div>\n",
                            "<style scoped>\n",
                            "    .dataframe tbody tr th:only-of-type {\n",
                            "        vertical-align: middle;\n",
                            "    }\n",
                            "\n",
                            "    .dataframe tbody tr th {\n",
                            "        vertical-align: top;\n",
                            "    }\n",
                            "\n",
                            "    .dataframe thead th {\n",
                            "        text-align: right;\n",
                            "    }\n",
                            "</style>\n",
                            "<table border=\"1\" class=\"dataframe\">\n",
                            "  <thead>\n",
                            "    <tr style=\"text-align: right;\">\n",
                            "      <th></th>\n",
                            "      <th>emp.var.rate</th>\n",
                            "      <th>cons.price.idx</th>\n",
                            "      <th>cons.conf.idx</th>\n",
                            "      <th>euribor3m</th>\n",
                            "      <th>nr.employed</th>\n",
                            "    </tr>\n",
                            "  </thead>\n",
                            "  <tbody>\n",
                            "    <tr>\n",
                            "      <th>count</th>\n",
                            "      <td>41176.000000</td>\n",
                            "      <td>41176.000000</td>\n",
                            "      <td>41176.000000</td>\n",
                            "      <td>41176.000000</td>\n",
                            "      <td>41176.000000</td>\n",
                            "    </tr>\n",
                            "    <tr>\n",
                            "      <th>mean</th>\n",
                            "      <td>0.081922</td>\n",
                            "      <td>93.575720</td>\n",
                            "      <td>-40.502863</td>\n",
                            "      <td>3.621293</td>\n",
                            "      <td>5167.034870</td>\n",
                            "    </tr>\n",
                            "    <tr>\n",
                            "      <th>std</th>\n",
                            "      <td>1.570883</td>\n",
                            "      <td>0.578839</td>\n",
                            "      <td>4.627860</td>\n",
                            "      <td>1.734437</td>\n",
                            "      <td>72.251364</td>\n",
                            "    </tr>\n",
                            "    <tr>\n",
                            "      <th>min</th>\n",
                            "      <td>-3.400000</td>\n",
                            "      <td>92.201000</td>\n",
                            "      <td>-50.800000</td>\n",
                            "      <td>0.634000</td>\n",
                            "      <td>4963.600000</td>\n",
                            "    </tr>\n",
                            "    <tr>\n",
                            "      <th>25%</th>\n",
                            "      <td>-1.800000</td>\n",
                            "      <td>93.075000</td>\n",
                            "      <td>-42.700000</td>\n",
                            "      <td>1.344000</td>\n",
                            "      <td>5099.100000</td>\n",
                            "    </tr>\n",
                            "    <tr>\n",
                            "      <th>50%</th>\n",
                            "      <td>1.100000</td>\n",
                            "      <td>93.749000</td>\n",
                            "      <td>-41.800000</td>\n",
                            "      <td>4.857000</td>\n",
                            "      <td>5191.000000</td>\n",
                            "    </tr>\n",
                            "    <tr>\n",
                            "      <th>75%</th>\n",
                            "      <td>1.400000</td>\n",
                            "      <td>93.994000</td>\n",
                            "      <td>-36.400000</td>\n",
                            "      <td>4.961000</td>\n",
                            "      <td>5228.100000</td>\n",
                            "    </tr>\n",
                            "    <tr>\n",
                            "      <th>max</th>\n",
                            "      <td>1.400000</td>\n",
                            "      <td>94.767000</td>\n",
                            "      <td>-26.900000</td>\n",
                            "      <td>5.045000</td>\n",
                            "      <td>5228.100000</td>\n",
                            "    </tr>\n",
                            "  </tbody>\n",
                            "</table>\n",
                            "</div>"
                        ],
                        "text/plain": [
                            "       emp.var.rate  cons.price.idx  cons.conf.idx     euribor3m   nr.employed\n",
                            "count  41176.000000    41176.000000   41176.000000  41176.000000  41176.000000\n",
                            "mean       0.081922       93.575720     -40.502863      3.621293   5167.034870\n",
                            "std        1.570883        0.578839       4.627860      1.734437     72.251364\n",
                            "min       -3.400000       92.201000     -50.800000      0.634000   4963.600000\n",
                            "25%       -1.800000       93.075000     -42.700000      1.344000   5099.100000\n",
                            "50%        1.100000       93.749000     -41.800000      4.857000   5191.000000\n",
                            "75%        1.400000       93.994000     -36.400000      4.961000   5228.100000\n",
                            "max        1.400000       94.767000     -26.900000      5.045000   5228.100000"
                        ]
                    },
                    "execution_count": 12,
                    "metadata": {},
                    "output_type": "execute_result"
                }
            ],
            "source": [
                "df.describe(include=['float64']) #, percentiles=[]"
            ]
        },
        {
            "cell_type": "code",
            "execution_count": 13,
            "metadata": {},
            "outputs": [],
            "source": [
                "### Is your data balanced or imbalanced?"
            ]
        },
        {
            "cell_type": "code",
            "execution_count": 14,
            "metadata": {},
            "outputs": [
                {
                    "data": {
                        "image/png": "[encoded data removed]",
                        "text/plain": [
                            "<Figure size 432x288 with 1 Axes>"
                        ]
                    },
                    "metadata": {
                        "needs_background": "light"
                    },
                    "output_type": "display_data"
                }
            ],
            "source": [
                "#df['y'].value_counts()\n",
                "data = df.sort_values(by=['y'])\n",
                "data['y'].value_counts().plot(kind = 'bar')\n",
                "plt.title('y')\n",
                "plt.show()"
            ]
        },
        {
            "cell_type": "code",
            "execution_count": 15,
            "metadata": {},
            "outputs": [
                {
                    "data": {
                        "text/plain": [
                            "no     36537\n",
                            "yes     4639\n",
                            "Name: y, dtype: int64"
                        ]
                    },
                    "execution_count": 15,
                    "metadata": {},
                    "output_type": "execute_result"
                }
            ],
            "source": [
                "df['y'].value_counts()"
            ]
        },
        {
            "cell_type": "markdown",
            "metadata": {},
            "source": [
                "### IMPORTANT: not balanced data of target column"
            ]
        },
        {
            "cell_type": "code",
            "execution_count": 20,
            "metadata": {},
            "outputs": [
                {
                    "data": {
                        "text/plain": [
                            "0    91\n",
                            "1     9\n",
                            "Name: y, dtype: int64"
                        ]
                    },
                    "execution_count": 20,
                    "metadata": {},
                    "output_type": "execute_result"
                }
            ],
            "source": [
                "# Take sample\n",
                "df_sample = df.sample(100)\n",
                "df_sample['y'] = df_sample['y'].apply(lambda x: 1 if x == 'yes' else 0) \n",
                "df_sample['y'].value_counts()\n"
            ]
        },
        {
            "cell_type": "code",
            "execution_count": null,
            "metadata": {},
            "outputs": [],
            "source": [
                "# Calculate Expected Value (EV), population mean and bias\n",
                "ev = df_sample.mean()[0]\n",
                "pop_mean = df.mean()[0]\n",
                "bias = ev - pop_mean\n",
                "\n",
                "print('Sample mean (Expected Value): ', ev)\n",
                "print('Population mean: ', pop_mean)\n",
                "print('Bias: ', bias)"
            ]
        },
        {
            "cell_type": "markdown",
            "metadata": {},
            "source": []
        }
    ],
    "metadata": {
        "kernelspec": {
            "display_name": "Python 3.8.13 64-bit ('3.8.13')",
            "language": "python",
            "name": "python3"
        },
        "language_info": {
            "codemirror_mode": {
                "name": "ipython",
                "version": 3
            },
            "file_extension": ".py",
            "mimetype": "text/x-python",
            "name": "python",
            "nbconvert_exporter": "python",
            "pygments_lexer": "ipython3",
            "version": "3.8.13"
        },
        "orig_nbformat": 4,
        "vscode": {
            "interpreter": {
                "hash": "110cc1dee26208153f2972f08a2ad52b6a56238dc66d48e87fb757ef2996db56"
            }
        }
    },
    "nbformat": 4,
    "nbformat_minor": 2
}
