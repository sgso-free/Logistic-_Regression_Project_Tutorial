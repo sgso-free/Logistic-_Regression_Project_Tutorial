{
    "cells": [
        {
            "cell_type": "markdown",
            "metadata": {},
            "source": [
                "# Logistic Regression Project Tutorial\n",
                "\n",
                "\n",
                "Bank Marketing Campaign:\n",
                "\n",
                "Business Understanding:\n",
                "\n",
                "Term deposits allow banks to hold money for an specific amount of time, which allows the bank to use that money for better investments. \n",
                "The marketing campaigns for this product were based on phone calls. \n",
                "Often, more than one contact to the same client was required, in order to know if the term deposit would be or not subscribed.\n",
                "\n",
                "Problem Description:\n",
                "\n",
                "Portuguese bank is having a decrease in its revenue so they want to be able to identify existing clients that have a higher chance to subscribe a term deposit. \n",
                "This will allow the bank to focus marketing efforts on those clients and avoid wasting money and time on clients that will probably not subscribe, as they want to increase their revenue.\n",
                "\n",
                "To approach this problem we will create a classification algorithm that helps predict if a client will subscribe or not a term deposit."
            ]
        },
        {
            "cell_type": "markdown",
            "metadata": {},
            "source": [
                "### Features:\n",
                "- Age: (numerical)\n",
                "- Job: Type of Job (categorical)\n",
                "- Marital: marital status (categorical)\n",
                "- Education: (categorical)\n",
                "- Default: has credit in default? (categorical)\n",
                "- Housing: has housing loan? (categorical)\n",
                "- Loan: has personal loan? (categorical)\n",
                "- contact: contact communication type (categorcial)\n",
                "- month: last contact month of year (categorical)\n",
                "- day_of_week: last contact day of the week (categorical)\n",
                "- duration: last contact duration, in seconds (numerical)\n",
                "    - Important note: this output highly affects the output target (if duration = 0, then y = 'no'). Yet, the duration is not known before a call is performed. Also, after the end of the call, y is obviously known. Consider if you should include it or not for a realistic predictive model.\n",
                "- campaign: number of contacts performed during this campaign and for this client (numerical)\n",
                "- pdays: number of days that passed by after the client was last contacted from a previous campaign (numeric; 999 - means client was not previously contacted)\n",
                "- previous: number of contacts performed before this campaign and for this client (numerical)\n",
                "- poutcome: outcome of the previous marketing campaign (categorical)\n",
                "\n",
                "    - Important note: this attribute has three categories: 'failure', 'success' and 'non-existent'. 86% of the data falls into 'non-existent' category.\n",
                "\n",
                "- emp.var.rate: employment variation rate - quarterly indicator (numeric)\n",
                "- cons.price.idx: consumer price index- monthly indicator (numeric)\n",
                "- cons.conf.idx: consumer confidence index - monthly indicator (numeric)\n",
                "- euribor3m: euribor 3 month rate: - daily indicator(numeric)\n",
                "            Note:the average interbank interest rate at which European banks are prepared to lend to one another\n",
                "- nr.employed: number of employees - quarterly indicator (numeric)\n",
                "### Target variable:\n",
                "\n",
                "y: has the client subscribed a term deposit?"
            ]
        },
        {
            "cell_type": "markdown",
            "metadata": {},
            "source": [
                "# Step 0 - Import Library"
            ]
        },
        {
            "cell_type": "code",
            "execution_count": 120,
            "metadata": {},
            "outputs": [],
            "source": [
                "import pandas as pd\n",
                "import numpy as np\n",
                "import seaborn as sns\n",
                "import matplotlib.pyplot as plt\n",
                "%matplotlib inline\n"
            ]
        },
        {
            "cell_type": "markdown",
            "metadata": {},
            "source": [
                "# Setp 1 - Import and Basic Explored Data"
            ]
        },
        {
            "cell_type": "code",
            "execution_count": 121,
            "metadata": {},
            "outputs": [
                {
                    "name": "stdout",
                    "output_type": "stream",
                    "text": [
                        "<class 'pandas.core.frame.DataFrame'>\n",
                        "RangeIndex: 41188 entries, 0 to 41187\n",
                        "Data columns (total 21 columns):\n",
                        " #   Column          Non-Null Count  Dtype  \n",
                        "---  ------          --------------  -----  \n",
                        " 0   age             41188 non-null  int64  \n",
                        " 1   job             41188 non-null  object \n",
                        " 2   marital         41188 non-null  object \n",
                        " 3   education       41188 non-null  object \n",
                        " 4   default         41188 non-null  object \n",
                        " 5   housing         41188 non-null  object \n",
                        " 6   loan            41188 non-null  object \n",
                        " 7   contact         41188 non-null  object \n",
                        " 8   month           41188 non-null  object \n",
                        " 9   day_of_week     41188 non-null  object \n",
                        " 10  duration        41188 non-null  int64  \n",
                        " 11  campaign        41188 non-null  int64  \n",
                        " 12  pdays           41188 non-null  int64  \n",
                        " 13  previous        41188 non-null  int64  \n",
                        " 14  poutcome        41188 non-null  object \n",
                        " 15  emp.var.rate    41188 non-null  float64\n",
                        " 16  cons.price.idx  41188 non-null  float64\n",
                        " 17  cons.conf.idx   41188 non-null  float64\n",
                        " 18  euribor3m       41188 non-null  float64\n",
                        " 19  nr.employed     41188 non-null  float64\n",
                        " 20  y               41188 non-null  object \n",
                        "dtypes: float64(5), int64(5), object(11)\n",
                        "memory usage: 6.6+ MB\n"
                    ]
                }
            ],
            "source": [
                "url = 'https://raw.githubusercontent.com/4GeeksAcademy/logistic-regression-project-tutorial/main/bank-marketing-campaign-data.csv'\n",
                "df=pd.read_csv(url, sep=\";\")\n",
                "df.info()\n"
            ]
        },
        {
            "cell_type": "markdown",
            "metadata": {},
            "source": [
                "Note:\n",
                "    - not null value"
            ]
        },
        {
            "cell_type": "code",
            "execution_count": 122,
            "metadata": {},
            "outputs": [
                {
                    "data": {
                        "text/html": [
                            "<div>\n",
                            "<style scoped>\n",
                            "    .dataframe tbody tr th:only-of-type {\n",
                            "        vertical-align: middle;\n",
                            "    }\n",
                            "\n",
                            "    .dataframe tbody tr th {\n",
                            "        vertical-align: top;\n",
                            "    }\n",
                            "\n",
                            "    .dataframe thead th {\n",
                            "        text-align: right;\n",
                            "    }\n",
                            "</style>\n",
                            "<table border=\"1\" class=\"dataframe\">\n",
                            "  <thead>\n",
                            "    <tr style=\"text-align: right;\">\n",
                            "      <th></th>\n",
                            "      <th>age</th>\n",
                            "      <th>job</th>\n",
                            "      <th>marital</th>\n",
                            "      <th>education</th>\n",
                            "      <th>default</th>\n",
                            "      <th>housing</th>\n",
                            "      <th>loan</th>\n",
                            "      <th>contact</th>\n",
                            "      <th>month</th>\n",
                            "      <th>day_of_week</th>\n",
                            "      <th>...</th>\n",
                            "      <th>campaign</th>\n",
                            "      <th>pdays</th>\n",
                            "      <th>previous</th>\n",
                            "      <th>poutcome</th>\n",
                            "      <th>emp.var.rate</th>\n",
                            "      <th>cons.price.idx</th>\n",
                            "      <th>cons.conf.idx</th>\n",
                            "      <th>euribor3m</th>\n",
                            "      <th>nr.employed</th>\n",
                            "      <th>y</th>\n",
                            "    </tr>\n",
                            "  </thead>\n",
                            "  <tbody>\n",
                            "    <tr>\n",
                            "      <th>5516</th>\n",
                            "      <td>48</td>\n",
                            "      <td>self-employed</td>\n",
                            "      <td>married</td>\n",
                            "      <td>basic.9y</td>\n",
                            "      <td>unknown</td>\n",
                            "      <td>no</td>\n",
                            "      <td>no</td>\n",
                            "      <td>telephone</td>\n",
                            "      <td>may</td>\n",
                            "      <td>mon</td>\n",
                            "      <td>...</td>\n",
                            "      <td>1</td>\n",
                            "      <td>999</td>\n",
                            "      <td>0</td>\n",
                            "      <td>nonexistent</td>\n",
                            "      <td>1.1</td>\n",
                            "      <td>93.994</td>\n",
                            "      <td>-36.4</td>\n",
                            "      <td>4.857</td>\n",
                            "      <td>5191.0</td>\n",
                            "      <td>no</td>\n",
                            "    </tr>\n",
                            "    <tr>\n",
                            "      <th>37564</th>\n",
                            "      <td>63</td>\n",
                            "      <td>blue-collar</td>\n",
                            "      <td>married</td>\n",
                            "      <td>basic.4y</td>\n",
                            "      <td>no</td>\n",
                            "      <td>yes</td>\n",
                            "      <td>yes</td>\n",
                            "      <td>cellular</td>\n",
                            "      <td>aug</td>\n",
                            "      <td>fri</td>\n",
                            "      <td>...</td>\n",
                            "      <td>3</td>\n",
                            "      <td>999</td>\n",
                            "      <td>0</td>\n",
                            "      <td>nonexistent</td>\n",
                            "      <td>-2.9</td>\n",
                            "      <td>92.201</td>\n",
                            "      <td>-31.4</td>\n",
                            "      <td>0.869</td>\n",
                            "      <td>5076.2</td>\n",
                            "      <td>no</td>\n",
                            "    </tr>\n",
                            "    <tr>\n",
                            "      <th>15803</th>\n",
                            "      <td>35</td>\n",
                            "      <td>technician</td>\n",
                            "      <td>married</td>\n",
                            "      <td>professional.course</td>\n",
                            "      <td>no</td>\n",
                            "      <td>no</td>\n",
                            "      <td>no</td>\n",
                            "      <td>cellular</td>\n",
                            "      <td>jul</td>\n",
                            "      <td>mon</td>\n",
                            "      <td>...</td>\n",
                            "      <td>3</td>\n",
                            "      <td>999</td>\n",
                            "      <td>0</td>\n",
                            "      <td>nonexistent</td>\n",
                            "      <td>1.4</td>\n",
                            "      <td>93.918</td>\n",
                            "      <td>-42.7</td>\n",
                            "      <td>4.960</td>\n",
                            "      <td>5228.1</td>\n",
                            "      <td>no</td>\n",
                            "    </tr>\n",
                            "    <tr>\n",
                            "      <th>12795</th>\n",
                            "      <td>32</td>\n",
                            "      <td>technician</td>\n",
                            "      <td>married</td>\n",
                            "      <td>professional.course</td>\n",
                            "      <td>no</td>\n",
                            "      <td>no</td>\n",
                            "      <td>no</td>\n",
                            "      <td>cellular</td>\n",
                            "      <td>jul</td>\n",
                            "      <td>tue</td>\n",
                            "      <td>...</td>\n",
                            "      <td>1</td>\n",
                            "      <td>999</td>\n",
                            "      <td>0</td>\n",
                            "      <td>nonexistent</td>\n",
                            "      <td>1.4</td>\n",
                            "      <td>93.918</td>\n",
                            "      <td>-42.7</td>\n",
                            "      <td>4.962</td>\n",
                            "      <td>5228.1</td>\n",
                            "      <td>no</td>\n",
                            "    </tr>\n",
                            "    <tr>\n",
                            "      <th>21039</th>\n",
                            "      <td>35</td>\n",
                            "      <td>technician</td>\n",
                            "      <td>single</td>\n",
                            "      <td>professional.course</td>\n",
                            "      <td>no</td>\n",
                            "      <td>yes</td>\n",
                            "      <td>no</td>\n",
                            "      <td>cellular</td>\n",
                            "      <td>aug</td>\n",
                            "      <td>thu</td>\n",
                            "      <td>...</td>\n",
                            "      <td>1</td>\n",
                            "      <td>999</td>\n",
                            "      <td>0</td>\n",
                            "      <td>nonexistent</td>\n",
                            "      <td>1.4</td>\n",
                            "      <td>93.444</td>\n",
                            "      <td>-36.1</td>\n",
                            "      <td>4.964</td>\n",
                            "      <td>5228.1</td>\n",
                            "      <td>no</td>\n",
                            "    </tr>\n",
                            "    <tr>\n",
                            "      <th>18950</th>\n",
                            "      <td>58</td>\n",
                            "      <td>retired</td>\n",
                            "      <td>married</td>\n",
                            "      <td>professional.course</td>\n",
                            "      <td>unknown</td>\n",
                            "      <td>no</td>\n",
                            "      <td>no</td>\n",
                            "      <td>cellular</td>\n",
                            "      <td>aug</td>\n",
                            "      <td>mon</td>\n",
                            "      <td>...</td>\n",
                            "      <td>2</td>\n",
                            "      <td>999</td>\n",
                            "      <td>0</td>\n",
                            "      <td>nonexistent</td>\n",
                            "      <td>1.4</td>\n",
                            "      <td>93.444</td>\n",
                            "      <td>-36.1</td>\n",
                            "      <td>4.970</td>\n",
                            "      <td>5228.1</td>\n",
                            "      <td>no</td>\n",
                            "    </tr>\n",
                            "    <tr>\n",
                            "      <th>12753</th>\n",
                            "      <td>31</td>\n",
                            "      <td>services</td>\n",
                            "      <td>divorced</td>\n",
                            "      <td>high.school</td>\n",
                            "      <td>no</td>\n",
                            "      <td>no</td>\n",
                            "      <td>no</td>\n",
                            "      <td>cellular</td>\n",
                            "      <td>jul</td>\n",
                            "      <td>tue</td>\n",
                            "      <td>...</td>\n",
                            "      <td>1</td>\n",
                            "      <td>999</td>\n",
                            "      <td>0</td>\n",
                            "      <td>nonexistent</td>\n",
                            "      <td>1.4</td>\n",
                            "      <td>93.918</td>\n",
                            "      <td>-42.7</td>\n",
                            "      <td>4.962</td>\n",
                            "      <td>5228.1</td>\n",
                            "      <td>no</td>\n",
                            "    </tr>\n",
                            "    <tr>\n",
                            "      <th>3697</th>\n",
                            "      <td>38</td>\n",
                            "      <td>blue-collar</td>\n",
                            "      <td>single</td>\n",
                            "      <td>university.degree</td>\n",
                            "      <td>unknown</td>\n",
                            "      <td>no</td>\n",
                            "      <td>no</td>\n",
                            "      <td>telephone</td>\n",
                            "      <td>may</td>\n",
                            "      <td>fri</td>\n",
                            "      <td>...</td>\n",
                            "      <td>1</td>\n",
                            "      <td>999</td>\n",
                            "      <td>0</td>\n",
                            "      <td>nonexistent</td>\n",
                            "      <td>1.1</td>\n",
                            "      <td>93.994</td>\n",
                            "      <td>-36.4</td>\n",
                            "      <td>4.859</td>\n",
                            "      <td>5191.0</td>\n",
                            "      <td>yes</td>\n",
                            "    </tr>\n",
                            "    <tr>\n",
                            "      <th>12209</th>\n",
                            "      <td>49</td>\n",
                            "      <td>technician</td>\n",
                            "      <td>single</td>\n",
                            "      <td>high.school</td>\n",
                            "      <td>no</td>\n",
                            "      <td>yes</td>\n",
                            "      <td>no</td>\n",
                            "      <td>telephone</td>\n",
                            "      <td>jul</td>\n",
                            "      <td>wed</td>\n",
                            "      <td>...</td>\n",
                            "      <td>1</td>\n",
                            "      <td>999</td>\n",
                            "      <td>0</td>\n",
                            "      <td>nonexistent</td>\n",
                            "      <td>1.4</td>\n",
                            "      <td>93.918</td>\n",
                            "      <td>-42.7</td>\n",
                            "      <td>4.956</td>\n",
                            "      <td>5228.1</td>\n",
                            "      <td>no</td>\n",
                            "    </tr>\n",
                            "    <tr>\n",
                            "      <th>25555</th>\n",
                            "      <td>30</td>\n",
                            "      <td>admin.</td>\n",
                            "      <td>single</td>\n",
                            "      <td>high.school</td>\n",
                            "      <td>no</td>\n",
                            "      <td>yes</td>\n",
                            "      <td>no</td>\n",
                            "      <td>cellular</td>\n",
                            "      <td>nov</td>\n",
                            "      <td>wed</td>\n",
                            "      <td>...</td>\n",
                            "      <td>1</td>\n",
                            "      <td>999</td>\n",
                            "      <td>1</td>\n",
                            "      <td>failure</td>\n",
                            "      <td>-0.1</td>\n",
                            "      <td>93.200</td>\n",
                            "      <td>-42.0</td>\n",
                            "      <td>4.120</td>\n",
                            "      <td>5195.8</td>\n",
                            "      <td>no</td>\n",
                            "    </tr>\n",
                            "  </tbody>\n",
                            "</table>\n",
                            "<p>10 rows × 21 columns</p>\n",
                            "</div>"
                        ],
                        "text/plain": [
                            "       age            job   marital            education  default housing  \\\n",
                            "5516    48  self-employed   married             basic.9y  unknown      no   \n",
                            "37564   63    blue-collar   married             basic.4y       no     yes   \n",
                            "15803   35     technician   married  professional.course       no      no   \n",
                            "12795   32     technician   married  professional.course       no      no   \n",
                            "21039   35     technician    single  professional.course       no     yes   \n",
                            "18950   58        retired   married  professional.course  unknown      no   \n",
                            "12753   31       services  divorced          high.school       no      no   \n",
                            "3697    38    blue-collar    single    university.degree  unknown      no   \n",
                            "12209   49     technician    single          high.school       no     yes   \n",
                            "25555   30         admin.    single          high.school       no     yes   \n",
                            "\n",
                            "      loan    contact month day_of_week  ...  campaign  pdays  previous  \\\n",
                            "5516    no  telephone   may         mon  ...         1    999         0   \n",
                            "37564  yes   cellular   aug         fri  ...         3    999         0   \n",
                            "15803   no   cellular   jul         mon  ...         3    999         0   \n",
                            "12795   no   cellular   jul         tue  ...         1    999         0   \n",
                            "21039   no   cellular   aug         thu  ...         1    999         0   \n",
                            "18950   no   cellular   aug         mon  ...         2    999         0   \n",
                            "12753   no   cellular   jul         tue  ...         1    999         0   \n",
                            "3697    no  telephone   may         fri  ...         1    999         0   \n",
                            "12209   no  telephone   jul         wed  ...         1    999         0   \n",
                            "25555   no   cellular   nov         wed  ...         1    999         1   \n",
                            "\n",
                            "          poutcome emp.var.rate  cons.price.idx  cons.conf.idx  euribor3m  \\\n",
                            "5516   nonexistent          1.1          93.994          -36.4      4.857   \n",
                            "37564  nonexistent         -2.9          92.201          -31.4      0.869   \n",
                            "15803  nonexistent          1.4          93.918          -42.7      4.960   \n",
                            "12795  nonexistent          1.4          93.918          -42.7      4.962   \n",
                            "21039  nonexistent          1.4          93.444          -36.1      4.964   \n",
                            "18950  nonexistent          1.4          93.444          -36.1      4.970   \n",
                            "12753  nonexistent          1.4          93.918          -42.7      4.962   \n",
                            "3697   nonexistent          1.1          93.994          -36.4      4.859   \n",
                            "12209  nonexistent          1.4          93.918          -42.7      4.956   \n",
                            "25555      failure         -0.1          93.200          -42.0      4.120   \n",
                            "\n",
                            "       nr.employed    y  \n",
                            "5516        5191.0   no  \n",
                            "37564       5076.2   no  \n",
                            "15803       5228.1   no  \n",
                            "12795       5228.1   no  \n",
                            "21039       5228.1   no  \n",
                            "18950       5228.1   no  \n",
                            "12753       5228.1   no  \n",
                            "3697        5191.0  yes  \n",
                            "12209       5228.1   no  \n",
                            "25555       5195.8   no  \n",
                            "\n",
                            "[10 rows x 21 columns]"
                        ]
                    },
                    "execution_count": 122,
                    "metadata": {},
                    "output_type": "execute_result"
                }
            ],
            "source": [
                "df.sample(10)"
            ]
        },
        {
            "cell_type": "markdown",
            "metadata": {},
            "source": [
                "## STEP 2 \n",
                "find patterns and valuable information about relationships between features"
            ]
        },
        {
            "cell_type": "code",
            "execution_count": 123,
            "metadata": {},
            "outputs": [
                {
                    "data": {
                        "image/png": "[encoded data removed]",
                        "text/plain": [
                            "<Figure size 720x720 with 12 Axes>"
                        ]
                    },
                    "metadata": {
                        "needs_background": "light"
                    },
                    "output_type": "display_data"
                }
            ],
            "source": [
                "df.hist(bins=10,figsize=(10,10),grid=False, sharey=True);\n",
                "plt.show()"
            ]
        },
        {
            "cell_type": "code",
            "execution_count": 124,
            "metadata": {},
            "outputs": [],
            "source": [
                "variables = df.columns[df.dtypes == 'object'] "
            ]
        },
        {
            "cell_type": "code",
            "execution_count": 125,
            "metadata": {},
            "outputs": [
                {
                    "name": "stdout",
                    "output_type": "stream",
                    "text": [
                        "Data distribution analysys\n"
                    ]
                },
                {
                    "data": {
                        "image/png": "[encoded data removed]",
                        "text/plain": [
                            "<Figure size 432x288 with 1 Axes>"
                        ]
                    },
                    "metadata": {
                        "needs_background": "light"
                    },
                    "output_type": "display_data"
                },
                {
                    "data": {
                        "image/png": "[encoded data removed]",
                        "text/plain": [
                            "<Figure size 432x288 with 1 Axes>"
                        ]
                    },
                    "metadata": {
                        "needs_background": "light"
                    },
                    "output_type": "display_data"
                },
                {
                    "data": {
                        "image/png": "[encoded data removed]",
                        "text/plain": [
                            "<Figure size 432x288 with 1 Axes>"
                        ]
                    },
                    "metadata": {
                        "needs_background": "light"
                    },
                    "output_type": "display_data"
                },
                {
                    "data": {
                        "image/png": "[encoded data removed]",
                        "text/plain": [
                            "<Figure size 432x288 with 1 Axes>"
                        ]
                    },
                    "metadata": {
                        "needs_background": "light"
                    },
                    "output_type": "display_data"
                },
                {
                    "data": {
                        "image/png": "[encoded data removed]",
                        "text/plain": [
                            "<Figure size 432x288 with 1 Axes>"
                        ]
                    },
                    "metadata": {
                        "needs_background": "light"
                    },
                    "output_type": "display_data"
                },
                {
                    "data": {
                        "image/png": "[encoded data removed]",
                        "text/plain": [
                            "<Figure size 432x288 with 1 Axes>"
                        ]
                    },
                    "metadata": {
                        "needs_background": "light"
                    },
                    "output_type": "display_data"
                },
                {
                    "data": {
                        "image/png": "[encoded data removed]",
                        "text/plain": [
                            "<Figure size 432x288 with 1 Axes>"
                        ]
                    },
                    "metadata": {
                        "needs_background": "light"
                    },
                    "output_type": "display_data"
                },
                {
                    "data": {
                        "image/png": "[encoded data removed]",
                        "text/plain": [
                            "<Figure size 432x288 with 1 Axes>"
                        ]
                    },
                    "metadata": {
                        "needs_background": "light"
                    },
                    "output_type": "display_data"
                },
                {
                    "data": {
                        "image/png": "[encoded data removed]",
                        "text/plain": [
                            "<Figure size 432x288 with 1 Axes>"
                        ]
                    },
                    "metadata": {
                        "needs_background": "light"
                    },
                    "output_type": "display_data"
                },
                {
                    "data": {
                        "image/png": "[encoded data removed]",
                        "text/plain": [
                            "<Figure size 432x288 with 1 Axes>"
                        ]
                    },
                    "metadata": {
                        "needs_background": "light"
                    },
                    "output_type": "display_data"
                },
                {
                    "data": {
                        "image/png": "[encoded data removed]",
                        "text/plain": [
                            "<Figure size 432x288 with 1 Axes>"
                        ]
                    },
                    "metadata": {
                        "needs_background": "light"
                    },
                    "output_type": "display_data"
                }
            ],
            "source": [
                " # data distribution analysys\n",
                "print('Data distribution analysys')\n",
                "for v in variables:\n",
                "    data = df.sort_values(by=[v])\n",
                "    data[v].value_counts().plot(kind = 'bar')\n",
                "    plt.title(v)\n",
                "    plt.show()"
            ]
        },
        {
            "cell_type": "markdown",
            "metadata": {},
            "source": [
                "## Clean Data\n",
                "### Not null, but check duplicate"
            ]
        },
        {
            "cell_type": "code",
            "execution_count": 126,
            "metadata": {},
            "outputs": [
                {
                    "data": {
                        "text/plain": [
                            "False    41176\n",
                            "True        12\n",
                            "dtype: int64"
                        ]
                    },
                    "execution_count": 126,
                    "metadata": {},
                    "output_type": "execute_result"
                }
            ],
            "source": [
                "#check the amount odf duplicated\n",
                "df.duplicated(keep='first').value_counts()"
            ]
        },
        {
            "cell_type": "code",
            "execution_count": 127,
            "metadata": {},
            "outputs": [],
            "source": [
                "#have duplicate, drop\n",
                "df.drop_duplicates(keep='first', inplace=True, ignore_index=False)"
            ]
        },
        {
            "cell_type": "markdown",
            "metadata": {},
            "source": [
                "## MISSING VALUES"
            ]
        },
        {
            "cell_type": "markdown",
            "metadata": {},
            "source": [
                "### in category feature, replace unknow value to more frecuency value"
            ]
        },
        {
            "cell_type": "code",
            "execution_count": 128,
            "metadata": {},
            "outputs": [
                {
                    "name": "stdout",
                    "output_type": "stream",
                    "text": [
                        "Change unknow in each object column\n",
                        " job to admin.\n",
                        " marital to married\n",
                        " education to university.degree\n",
                        " default to no\n",
                        " housing to yes\n",
                        " loan to no\n",
                        " contact to cellular\n",
                        " month to may\n",
                        " day_of_week to thu\n",
                        " poutcome to nonexistent\n",
                        " y to no\n"
                    ]
                }
            ],
            "source": [
                "#make change for all values\n",
                "#more frecuency value is the mode\n",
                "variables = df.columns[df.dtypes == 'object']\n",
                "\n",
                "print('Change unknow in each object column')\n",
                "for v in variables:\n",
                "    print(f' {v} to {df[v].mode()[0]}')\n",
                "    df.loc[df[v] == \"unknown\", v] = df[v].mode()[0]\n",
                "\n"
            ]
        },
        {
            "cell_type": "markdown",
            "metadata": {},
            "source": [
                "### In the numerical features, replace the unknown values with the mean."
            ]
        },
        {
            "cell_type": "code",
            "execution_count": 129,
            "metadata": {},
            "outputs": [
                {
                    "data": {
                        "text/html": [
                            "<div>\n",
                            "<style scoped>\n",
                            "    .dataframe tbody tr th:only-of-type {\n",
                            "        vertical-align: middle;\n",
                            "    }\n",
                            "\n",
                            "    .dataframe tbody tr th {\n",
                            "        vertical-align: top;\n",
                            "    }\n",
                            "\n",
                            "    .dataframe thead th {\n",
                            "        text-align: right;\n",
                            "    }\n",
                            "</style>\n",
                            "<table border=\"1\" class=\"dataframe\">\n",
                            "  <thead>\n",
                            "    <tr style=\"text-align: right;\">\n",
                            "      <th></th>\n",
                            "      <th>age</th>\n",
                            "      <th>duration</th>\n",
                            "      <th>campaign</th>\n",
                            "      <th>pdays</th>\n",
                            "      <th>previous</th>\n",
                            "    </tr>\n",
                            "  </thead>\n",
                            "  <tbody>\n",
                            "    <tr>\n",
                            "      <th>count</th>\n",
                            "      <td>41176.00000</td>\n",
                            "      <td>41176.000000</td>\n",
                            "      <td>41176.000000</td>\n",
                            "      <td>41176.000000</td>\n",
                            "      <td>41176.000000</td>\n",
                            "    </tr>\n",
                            "    <tr>\n",
                            "      <th>mean</th>\n",
                            "      <td>40.02380</td>\n",
                            "      <td>258.315815</td>\n",
                            "      <td>2.567879</td>\n",
                            "      <td>962.464810</td>\n",
                            "      <td>0.173013</td>\n",
                            "    </tr>\n",
                            "    <tr>\n",
                            "      <th>std</th>\n",
                            "      <td>10.42068</td>\n",
                            "      <td>259.305321</td>\n",
                            "      <td>2.770318</td>\n",
                            "      <td>186.937102</td>\n",
                            "      <td>0.494964</td>\n",
                            "    </tr>\n",
                            "    <tr>\n",
                            "      <th>min</th>\n",
                            "      <td>17.00000</td>\n",
                            "      <td>0.000000</td>\n",
                            "      <td>1.000000</td>\n",
                            "      <td>0.000000</td>\n",
                            "      <td>0.000000</td>\n",
                            "    </tr>\n",
                            "    <tr>\n",
                            "      <th>25%</th>\n",
                            "      <td>32.00000</td>\n",
                            "      <td>102.000000</td>\n",
                            "      <td>1.000000</td>\n",
                            "      <td>999.000000</td>\n",
                            "      <td>0.000000</td>\n",
                            "    </tr>\n",
                            "    <tr>\n",
                            "      <th>50%</th>\n",
                            "      <td>38.00000</td>\n",
                            "      <td>180.000000</td>\n",
                            "      <td>2.000000</td>\n",
                            "      <td>999.000000</td>\n",
                            "      <td>0.000000</td>\n",
                            "    </tr>\n",
                            "    <tr>\n",
                            "      <th>75%</th>\n",
                            "      <td>47.00000</td>\n",
                            "      <td>319.000000</td>\n",
                            "      <td>3.000000</td>\n",
                            "      <td>999.000000</td>\n",
                            "      <td>0.000000</td>\n",
                            "    </tr>\n",
                            "    <tr>\n",
                            "      <th>max</th>\n",
                            "      <td>98.00000</td>\n",
                            "      <td>4918.000000</td>\n",
                            "      <td>56.000000</td>\n",
                            "      <td>999.000000</td>\n",
                            "      <td>7.000000</td>\n",
                            "    </tr>\n",
                            "  </tbody>\n",
                            "</table>\n",
                            "</div>"
                        ],
                        "text/plain": [
                            "               age      duration      campaign         pdays      previous\n",
                            "count  41176.00000  41176.000000  41176.000000  41176.000000  41176.000000\n",
                            "mean      40.02380    258.315815      2.567879    962.464810      0.173013\n",
                            "std       10.42068    259.305321      2.770318    186.937102      0.494964\n",
                            "min       17.00000      0.000000      1.000000      0.000000      0.000000\n",
                            "25%       32.00000    102.000000      1.000000    999.000000      0.000000\n",
                            "50%       38.00000    180.000000      2.000000    999.000000      0.000000\n",
                            "75%       47.00000    319.000000      3.000000    999.000000      0.000000\n",
                            "max       98.00000   4918.000000     56.000000    999.000000      7.000000"
                        ]
                    },
                    "execution_count": 129,
                    "metadata": {},
                    "output_type": "execute_result"
                }
            ],
            "source": [
                "variablesInt = df.columns[df.dtypes == 'int64']\n",
                "\n",
                "df.describe(include=['int64'])\n",
                "#df[df['Age'].fillna(df['Age'].median(), inplace=True)"
            ]
        },
        {
            "cell_type": "code",
            "execution_count": 130,
            "metadata": {},
            "outputs": [
                {
                    "data": {
                        "text/html": [
                            "<div>\n",
                            "<style scoped>\n",
                            "    .dataframe tbody tr th:only-of-type {\n",
                            "        vertical-align: middle;\n",
                            "    }\n",
                            "\n",
                            "    .dataframe tbody tr th {\n",
                            "        vertical-align: top;\n",
                            "    }\n",
                            "\n",
                            "    .dataframe thead th {\n",
                            "        text-align: right;\n",
                            "    }\n",
                            "</style>\n",
                            "<table border=\"1\" class=\"dataframe\">\n",
                            "  <thead>\n",
                            "    <tr style=\"text-align: right;\">\n",
                            "      <th></th>\n",
                            "      <th>age</th>\n",
                            "      <th>job</th>\n",
                            "      <th>marital</th>\n",
                            "      <th>education</th>\n",
                            "      <th>default</th>\n",
                            "      <th>housing</th>\n",
                            "      <th>loan</th>\n",
                            "      <th>contact</th>\n",
                            "      <th>month</th>\n",
                            "      <th>day_of_week</th>\n",
                            "      <th>...</th>\n",
                            "      <th>campaign</th>\n",
                            "      <th>pdays</th>\n",
                            "      <th>previous</th>\n",
                            "      <th>poutcome</th>\n",
                            "      <th>emp.var.rate</th>\n",
                            "      <th>cons.price.idx</th>\n",
                            "      <th>cons.conf.idx</th>\n",
                            "      <th>euribor3m</th>\n",
                            "      <th>nr.employed</th>\n",
                            "      <th>y</th>\n",
                            "    </tr>\n",
                            "  </thead>\n",
                            "  <tbody>\n",
                            "    <tr>\n",
                            "      <th>4107</th>\n",
                            "      <td>32</td>\n",
                            "      <td>admin.</td>\n",
                            "      <td>married</td>\n",
                            "      <td>university.degree</td>\n",
                            "      <td>no</td>\n",
                            "      <td>yes</td>\n",
                            "      <td>no</td>\n",
                            "      <td>telephone</td>\n",
                            "      <td>may</td>\n",
                            "      <td>mon</td>\n",
                            "      <td>...</td>\n",
                            "      <td>56</td>\n",
                            "      <td>999</td>\n",
                            "      <td>0</td>\n",
                            "      <td>nonexistent</td>\n",
                            "      <td>1.1</td>\n",
                            "      <td>93.994</td>\n",
                            "      <td>-36.4</td>\n",
                            "      <td>4.858</td>\n",
                            "      <td>5191.0</td>\n",
                            "      <td>no</td>\n",
                            "    </tr>\n",
                            "    <tr>\n",
                            "      <th>4168</th>\n",
                            "      <td>29</td>\n",
                            "      <td>technician</td>\n",
                            "      <td>married</td>\n",
                            "      <td>professional.course</td>\n",
                            "      <td>no</td>\n",
                            "      <td>yes</td>\n",
                            "      <td>no</td>\n",
                            "      <td>telephone</td>\n",
                            "      <td>may</td>\n",
                            "      <td>mon</td>\n",
                            "      <td>...</td>\n",
                            "      <td>42</td>\n",
                            "      <td>999</td>\n",
                            "      <td>0</td>\n",
                            "      <td>nonexistent</td>\n",
                            "      <td>1.1</td>\n",
                            "      <td>93.994</td>\n",
                            "      <td>-36.4</td>\n",
                            "      <td>4.858</td>\n",
                            "      <td>5191.0</td>\n",
                            "      <td>no</td>\n",
                            "    </tr>\n",
                            "    <tr>\n",
                            "      <th>5304</th>\n",
                            "      <td>44</td>\n",
                            "      <td>retired</td>\n",
                            "      <td>married</td>\n",
                            "      <td>basic.9y</td>\n",
                            "      <td>no</td>\n",
                            "      <td>yes</td>\n",
                            "      <td>no</td>\n",
                            "      <td>telephone</td>\n",
                            "      <td>may</td>\n",
                            "      <td>fri</td>\n",
                            "      <td>...</td>\n",
                            "      <td>42</td>\n",
                            "      <td>999</td>\n",
                            "      <td>0</td>\n",
                            "      <td>nonexistent</td>\n",
                            "      <td>1.1</td>\n",
                            "      <td>93.994</td>\n",
                            "      <td>-36.4</td>\n",
                            "      <td>4.857</td>\n",
                            "      <td>5191.0</td>\n",
                            "      <td>no</td>\n",
                            "    </tr>\n",
                            "    <tr>\n",
                            "      <th>11033</th>\n",
                            "      <td>38</td>\n",
                            "      <td>blue-collar</td>\n",
                            "      <td>married</td>\n",
                            "      <td>basic.4y</td>\n",
                            "      <td>no</td>\n",
                            "      <td>yes</td>\n",
                            "      <td>no</td>\n",
                            "      <td>telephone</td>\n",
                            "      <td>jun</td>\n",
                            "      <td>wed</td>\n",
                            "      <td>...</td>\n",
                            "      <td>41</td>\n",
                            "      <td>999</td>\n",
                            "      <td>0</td>\n",
                            "      <td>nonexistent</td>\n",
                            "      <td>1.4</td>\n",
                            "      <td>94.465</td>\n",
                            "      <td>-41.8</td>\n",
                            "      <td>4.962</td>\n",
                            "      <td>5228.1</td>\n",
                            "      <td>no</td>\n",
                            "    </tr>\n",
                            "    <tr>\n",
                            "      <th>13447</th>\n",
                            "      <td>32</td>\n",
                            "      <td>technician</td>\n",
                            "      <td>single</td>\n",
                            "      <td>university.degree</td>\n",
                            "      <td>no</td>\n",
                            "      <td>yes</td>\n",
                            "      <td>yes</td>\n",
                            "      <td>telephone</td>\n",
                            "      <td>jul</td>\n",
                            "      <td>wed</td>\n",
                            "      <td>...</td>\n",
                            "      <td>43</td>\n",
                            "      <td>999</td>\n",
                            "      <td>0</td>\n",
                            "      <td>nonexistent</td>\n",
                            "      <td>1.4</td>\n",
                            "      <td>93.918</td>\n",
                            "      <td>-42.7</td>\n",
                            "      <td>4.962</td>\n",
                            "      <td>5228.1</td>\n",
                            "      <td>no</td>\n",
                            "    </tr>\n",
                            "    <tr>\n",
                            "      <th>18728</th>\n",
                            "      <td>54</td>\n",
                            "      <td>admin.</td>\n",
                            "      <td>married</td>\n",
                            "      <td>university.degree</td>\n",
                            "      <td>no</td>\n",
                            "      <td>yes</td>\n",
                            "      <td>no</td>\n",
                            "      <td>cellular</td>\n",
                            "      <td>jul</td>\n",
                            "      <td>thu</td>\n",
                            "      <td>...</td>\n",
                            "      <td>43</td>\n",
                            "      <td>999</td>\n",
                            "      <td>0</td>\n",
                            "      <td>nonexistent</td>\n",
                            "      <td>1.4</td>\n",
                            "      <td>93.918</td>\n",
                            "      <td>-42.7</td>\n",
                            "      <td>4.968</td>\n",
                            "      <td>5228.1</td>\n",
                            "      <td>no</td>\n",
                            "    </tr>\n",
                            "  </tbody>\n",
                            "</table>\n",
                            "<p>6 rows × 21 columns</p>\n",
                            "</div>"
                        ],
                        "text/plain": [
                            "       age          job  marital            education default housing loan  \\\n",
                            "4107    32       admin.  married    university.degree      no     yes   no   \n",
                            "4168    29   technician  married  professional.course      no     yes   no   \n",
                            "5304    44      retired  married             basic.9y      no     yes   no   \n",
                            "11033   38  blue-collar  married             basic.4y      no     yes   no   \n",
                            "13447   32   technician   single    university.degree      no     yes  yes   \n",
                            "18728   54       admin.  married    university.degree      no     yes   no   \n",
                            "\n",
                            "         contact month day_of_week  ...  campaign  pdays  previous  \\\n",
                            "4107   telephone   may         mon  ...        56    999         0   \n",
                            "4168   telephone   may         mon  ...        42    999         0   \n",
                            "5304   telephone   may         fri  ...        42    999         0   \n",
                            "11033  telephone   jun         wed  ...        41    999         0   \n",
                            "13447  telephone   jul         wed  ...        43    999         0   \n",
                            "18728   cellular   jul         thu  ...        43    999         0   \n",
                            "\n",
                            "          poutcome emp.var.rate  cons.price.idx  cons.conf.idx  euribor3m  \\\n",
                            "4107   nonexistent          1.1          93.994          -36.4      4.858   \n",
                            "4168   nonexistent          1.1          93.994          -36.4      4.858   \n",
                            "5304   nonexistent          1.1          93.994          -36.4      4.857   \n",
                            "11033  nonexistent          1.4          94.465          -41.8      4.962   \n",
                            "13447  nonexistent          1.4          93.918          -42.7      4.962   \n",
                            "18728  nonexistent          1.4          93.918          -42.7      4.968   \n",
                            "\n",
                            "       nr.employed   y  \n",
                            "4107        5191.0  no  \n",
                            "4168        5191.0  no  \n",
                            "5304        5191.0  no  \n",
                            "11033       5228.1  no  \n",
                            "13447       5228.1  no  \n",
                            "18728       5228.1  no  \n",
                            "\n",
                            "[6 rows x 21 columns]"
                        ]
                    },
                    "execution_count": 130,
                    "metadata": {},
                    "output_type": "execute_result"
                }
            ],
            "source": [
                "#check outlier the max is to height, than the mean\n",
                "df[df['campaign'] > 40]"
            ]
        },
        {
            "cell_type": "code",
            "execution_count": 131,
            "metadata": {},
            "outputs": [
                {
                    "data": {
                        "text/plain": [
                            "Text(0, 0.5, 'campaign')"
                        ]
                    },
                    "execution_count": 131,
                    "metadata": {},
                    "output_type": "execute_result"
                },
                {
                    "data": {
                        "image/png": "[encoded data removed]",
                        "text/plain": [
                            "<Figure size 432x432 with 1 Axes>"
                        ]
                    },
                    "metadata": {
                        "needs_background": "light"
                    },
                    "output_type": "display_data"
                }
            ],
            "source": [
                "plt.figure(figsize=(6,6))\n",
                "sns.boxplot(data=df['campaign'])\n",
                "plt.title('campaign')\n",
                "plt.ylabel('campaign')"
            ]
        },
        {
            "cell_type": "code",
            "execution_count": 132,
            "metadata": {},
            "outputs": [
                {
                    "name": "stdout",
                    "output_type": "stream",
                    "text": [
                        "The upper & lower bounds for suspected outliers are 6.0 and -2.0.\n"
                    ]
                }
            ],
            "source": [
                "descr_feat = df['campaign'].describe()\n",
                "IQR = descr_feat['75%']-descr_feat['25%']\n",
                "upper = descr_feat['75%'] + 1.5*IQR\n",
                "lower = descr_feat['25%'] - 1.5*IQR\n",
                "print('The upper & lower bounds for suspected outliers are {} and {}.'.format(upper,lower))"
            ]
        },
        {
            "cell_type": "code",
            "execution_count": 133,
            "metadata": {},
            "outputs": [
                {
                    "data": {
                        "text/plain": [
                            "(2406, 21)"
                        ]
                    },
                    "execution_count": 133,
                    "metadata": {},
                    "output_type": "execute_result"
                }
            ],
            "source": [
                "df[df['campaign'] > 6].shape"
            ]
        },
        {
            "cell_type": "code",
            "execution_count": 134,
            "metadata": {},
            "outputs": [],
            "source": [
                "#drop outliers, only drop the last value 56\n",
                "df.drop(df[df['campaign']>45].index, inplace=True)"
            ]
        },
        {
            "cell_type": "code",
            "execution_count": 135,
            "metadata": {},
            "outputs": [
                {
                    "data": {
                        "text/plain": [
                            "999    39660\n",
                            "3        439\n",
                            "6        412\n",
                            "4        118\n",
                            "9         64\n",
                            "2         61\n",
                            "7         60\n",
                            "12        58\n",
                            "10        52\n",
                            "5         46\n",
                            "13        36\n",
                            "11        28\n",
                            "1         26\n",
                            "15        24\n",
                            "14        20\n",
                            "8         18\n",
                            "0         15\n",
                            "16        11\n",
                            "17         8\n",
                            "18         7\n",
                            "22         3\n",
                            "19         3\n",
                            "21         2\n",
                            "25         1\n",
                            "26         1\n",
                            "27         1\n",
                            "20         1\n",
                            "Name: pdays, dtype: int64"
                        ]
                    },
                    "execution_count": 135,
                    "metadata": {},
                    "output_type": "execute_result"
                }
            ],
            "source": [
                "#999 - not previews contact\n",
                "df['pdays'].value_counts()"
            ]
        },
        {
            "cell_type": "code",
            "execution_count": 136,
            "metadata": {},
            "outputs": [
                {
                    "data": {
                        "text/plain": [
                            "count    1515.000000\n",
                            "mean        6.014521\n",
                            "std         3.824906\n",
                            "min         0.000000\n",
                            "25%         3.000000\n",
                            "50%         6.000000\n",
                            "75%         7.000000\n",
                            "max        27.000000\n",
                            "Name: pdays, dtype: float64"
                        ]
                    },
                    "execution_count": 136,
                    "metadata": {},
                    "output_type": "execute_result"
                }
            ],
            "source": [
                "#df['pdays'].unique()\n",
                "df[df['pdays']<100]['pdays'].describe()\n",
                " "
            ]
        },
        {
            "cell_type": "code",
            "execution_count": 137,
            "metadata": {},
            "outputs": [
                {
                    "data": {
                        "text/html": [
                            "<div>\n",
                            "<style scoped>\n",
                            "    .dataframe tbody tr th:only-of-type {\n",
                            "        vertical-align: middle;\n",
                            "    }\n",
                            "\n",
                            "    .dataframe tbody tr th {\n",
                            "        vertical-align: top;\n",
                            "    }\n",
                            "\n",
                            "    .dataframe thead th {\n",
                            "        text-align: right;\n",
                            "    }\n",
                            "</style>\n",
                            "<table border=\"1\" class=\"dataframe\">\n",
                            "  <thead>\n",
                            "    <tr style=\"text-align: right;\">\n",
                            "      <th></th>\n",
                            "      <th>emp.var.rate</th>\n",
                            "      <th>cons.price.idx</th>\n",
                            "      <th>cons.conf.idx</th>\n",
                            "      <th>euribor3m</th>\n",
                            "      <th>nr.employed</th>\n",
                            "    </tr>\n",
                            "  </thead>\n",
                            "  <tbody>\n",
                            "    <tr>\n",
                            "      <th>count</th>\n",
                            "      <td>41175.000000</td>\n",
                            "      <td>41175.000000</td>\n",
                            "      <td>41175.000000</td>\n",
                            "      <td>41175.000000</td>\n",
                            "      <td>41175.000000</td>\n",
                            "    </tr>\n",
                            "    <tr>\n",
                            "      <th>mean</th>\n",
                            "      <td>0.081897</td>\n",
                            "      <td>93.575710</td>\n",
                            "      <td>-40.502963</td>\n",
                            "      <td>3.621263</td>\n",
                            "      <td>5167.034288</td>\n",
                            "    </tr>\n",
                            "    <tr>\n",
                            "      <th>std</th>\n",
                            "      <td>1.570894</td>\n",
                            "      <td>0.578842</td>\n",
                            "      <td>4.627872</td>\n",
                            "      <td>1.734447</td>\n",
                            "      <td>72.252145</td>\n",
                            "    </tr>\n",
                            "    <tr>\n",
                            "      <th>min</th>\n",
                            "      <td>-3.400000</td>\n",
                            "      <td>92.201000</td>\n",
                            "      <td>-50.800000</td>\n",
                            "      <td>0.634000</td>\n",
                            "      <td>4963.600000</td>\n",
                            "    </tr>\n",
                            "    <tr>\n",
                            "      <th>25%</th>\n",
                            "      <td>-1.800000</td>\n",
                            "      <td>93.075000</td>\n",
                            "      <td>-42.700000</td>\n",
                            "      <td>1.344000</td>\n",
                            "      <td>5099.100000</td>\n",
                            "    </tr>\n",
                            "    <tr>\n",
                            "      <th>50%</th>\n",
                            "      <td>1.100000</td>\n",
                            "      <td>93.749000</td>\n",
                            "      <td>-41.800000</td>\n",
                            "      <td>4.857000</td>\n",
                            "      <td>5191.000000</td>\n",
                            "    </tr>\n",
                            "    <tr>\n",
                            "      <th>75%</th>\n",
                            "      <td>1.400000</td>\n",
                            "      <td>93.994000</td>\n",
                            "      <td>-36.400000</td>\n",
                            "      <td>4.961000</td>\n",
                            "      <td>5228.100000</td>\n",
                            "    </tr>\n",
                            "    <tr>\n",
                            "      <th>max</th>\n",
                            "      <td>1.400000</td>\n",
                            "      <td>94.767000</td>\n",
                            "      <td>-26.900000</td>\n",
                            "      <td>5.045000</td>\n",
                            "      <td>5228.100000</td>\n",
                            "    </tr>\n",
                            "  </tbody>\n",
                            "</table>\n",
                            "</div>"
                        ],
                        "text/plain": [
                            "       emp.var.rate  cons.price.idx  cons.conf.idx     euribor3m   nr.employed\n",
                            "count  41175.000000    41175.000000   41175.000000  41175.000000  41175.000000\n",
                            "mean       0.081897       93.575710     -40.502963      3.621263   5167.034288\n",
                            "std        1.570894        0.578842       4.627872      1.734447     72.252145\n",
                            "min       -3.400000       92.201000     -50.800000      0.634000   4963.600000\n",
                            "25%       -1.800000       93.075000     -42.700000      1.344000   5099.100000\n",
                            "50%        1.100000       93.749000     -41.800000      4.857000   5191.000000\n",
                            "75%        1.400000       93.994000     -36.400000      4.961000   5228.100000\n",
                            "max        1.400000       94.767000     -26.900000      5.045000   5228.100000"
                        ]
                    },
                    "execution_count": 137,
                    "metadata": {},
                    "output_type": "execute_result"
                }
            ],
            "source": [
                "df.describe(include=['float64']) #, percentiles=[]"
            ]
        },
        {
            "cell_type": "markdown",
            "metadata": {},
            "source": [
                "not detect know value in number variable"
            ]
        },
        {
            "cell_type": "markdown",
            "metadata": {},
            "source": [
                "### FEATURE ENCODING FOR CATEGORICAL VARIABLES"
            ]
        },
        {
            "cell_type": "code",
            "execution_count": 138,
            "metadata": {},
            "outputs": [],
            "source": [
                "#df['education'].unique()\n",
                "#df['y'].value_counts()"
            ]
        },
        {
            "cell_type": "code",
            "execution_count": 139,
            "metadata": {},
            "outputs": [
                {
                    "data": {
                        "text/html": [
                            "<div>\n",
                            "<style scoped>\n",
                            "    .dataframe tbody tr th:only-of-type {\n",
                            "        vertical-align: middle;\n",
                            "    }\n",
                            "\n",
                            "    .dataframe tbody tr th {\n",
                            "        vertical-align: top;\n",
                            "    }\n",
                            "\n",
                            "    .dataframe thead th {\n",
                            "        text-align: right;\n",
                            "    }\n",
                            "</style>\n",
                            "<table border=\"1\" class=\"dataframe\">\n",
                            "  <thead>\n",
                            "    <tr style=\"text-align: right;\">\n",
                            "      <th></th>\n",
                            "      <th>age</th>\n",
                            "      <th>job</th>\n",
                            "      <th>marital</th>\n",
                            "      <th>education</th>\n",
                            "      <th>default</th>\n",
                            "      <th>housing</th>\n",
                            "      <th>loan</th>\n",
                            "      <th>contact</th>\n",
                            "      <th>month</th>\n",
                            "      <th>day_of_week</th>\n",
                            "      <th>...</th>\n",
                            "      <th>campaign</th>\n",
                            "      <th>pdays</th>\n",
                            "      <th>previous</th>\n",
                            "      <th>poutcome</th>\n",
                            "      <th>emp.var.rate</th>\n",
                            "      <th>cons.price.idx</th>\n",
                            "      <th>cons.conf.idx</th>\n",
                            "      <th>euribor3m</th>\n",
                            "      <th>nr.employed</th>\n",
                            "      <th>y</th>\n",
                            "    </tr>\n",
                            "  </thead>\n",
                            "  <tbody>\n",
                            "    <tr>\n",
                            "      <th>7838</th>\n",
                            "      <td>4</td>\n",
                            "      <td>5</td>\n",
                            "      <td>1</td>\n",
                            "      <td>2</td>\n",
                            "      <td>0</td>\n",
                            "      <td>0</td>\n",
                            "      <td>0</td>\n",
                            "      <td>1</td>\n",
                            "      <td>6</td>\n",
                            "      <td>1</td>\n",
                            "      <td>...</td>\n",
                            "      <td>3</td>\n",
                            "      <td>999</td>\n",
                            "      <td>0</td>\n",
                            "      <td>1</td>\n",
                            "      <td>1.4</td>\n",
                            "      <td>94.465</td>\n",
                            "      <td>-41.8</td>\n",
                            "      <td>4.865</td>\n",
                            "      <td>5228.1</td>\n",
                            "      <td>0</td>\n",
                            "    </tr>\n",
                            "    <tr>\n",
                            "      <th>18251</th>\n",
                            "      <td>2</td>\n",
                            "      <td>3</td>\n",
                            "      <td>2</td>\n",
                            "      <td>2</td>\n",
                            "      <td>0</td>\n",
                            "      <td>1</td>\n",
                            "      <td>1</td>\n",
                            "      <td>2</td>\n",
                            "      <td>7</td>\n",
                            "      <td>3</td>\n",
                            "      <td>...</td>\n",
                            "      <td>3</td>\n",
                            "      <td>999</td>\n",
                            "      <td>0</td>\n",
                            "      <td>1</td>\n",
                            "      <td>1.4</td>\n",
                            "      <td>93.918</td>\n",
                            "      <td>-42.7</td>\n",
                            "      <td>4.963</td>\n",
                            "      <td>5228.1</td>\n",
                            "      <td>0</td>\n",
                            "    </tr>\n",
                            "    <tr>\n",
                            "      <th>20864</th>\n",
                            "      <td>3</td>\n",
                            "      <td>3</td>\n",
                            "      <td>2</td>\n",
                            "      <td>2</td>\n",
                            "      <td>0</td>\n",
                            "      <td>1</td>\n",
                            "      <td>0</td>\n",
                            "      <td>2</td>\n",
                            "      <td>8</td>\n",
                            "      <td>4</td>\n",
                            "      <td>...</td>\n",
                            "      <td>2</td>\n",
                            "      <td>999</td>\n",
                            "      <td>0</td>\n",
                            "      <td>1</td>\n",
                            "      <td>1.4</td>\n",
                            "      <td>93.444</td>\n",
                            "      <td>-36.1</td>\n",
                            "      <td>4.964</td>\n",
                            "      <td>5228.1</td>\n",
                            "      <td>0</td>\n",
                            "    </tr>\n",
                            "    <tr>\n",
                            "      <th>25713</th>\n",
                            "      <td>3</td>\n",
                            "      <td>7</td>\n",
                            "      <td>2</td>\n",
                            "      <td>2</td>\n",
                            "      <td>0</td>\n",
                            "      <td>0</td>\n",
                            "      <td>0</td>\n",
                            "      <td>2</td>\n",
                            "      <td>11</td>\n",
                            "      <td>3</td>\n",
                            "      <td>...</td>\n",
                            "      <td>3</td>\n",
                            "      <td>999</td>\n",
                            "      <td>0</td>\n",
                            "      <td>1</td>\n",
                            "      <td>-0.1</td>\n",
                            "      <td>93.200</td>\n",
                            "      <td>-42.0</td>\n",
                            "      <td>4.120</td>\n",
                            "      <td>5195.8</td>\n",
                            "      <td>0</td>\n",
                            "    </tr>\n",
                            "    <tr>\n",
                            "      <th>20641</th>\n",
                            "      <td>4</td>\n",
                            "      <td>5</td>\n",
                            "      <td>3</td>\n",
                            "      <td>2</td>\n",
                            "      <td>0</td>\n",
                            "      <td>0</td>\n",
                            "      <td>0</td>\n",
                            "      <td>2</td>\n",
                            "      <td>8</td>\n",
                            "      <td>3</td>\n",
                            "      <td>...</td>\n",
                            "      <td>2</td>\n",
                            "      <td>999</td>\n",
                            "      <td>0</td>\n",
                            "      <td>1</td>\n",
                            "      <td>1.4</td>\n",
                            "      <td>93.444</td>\n",
                            "      <td>-36.1</td>\n",
                            "      <td>4.965</td>\n",
                            "      <td>5228.1</td>\n",
                            "      <td>0</td>\n",
                            "    </tr>\n",
                            "    <tr>\n",
                            "      <th>808</th>\n",
                            "      <td>2</td>\n",
                            "      <td>3</td>\n",
                            "      <td>2</td>\n",
                            "      <td>2</td>\n",
                            "      <td>0</td>\n",
                            "      <td>0</td>\n",
                            "      <td>0</td>\n",
                            "      <td>1</td>\n",
                            "      <td>5</td>\n",
                            "      <td>3</td>\n",
                            "      <td>...</td>\n",
                            "      <td>2</td>\n",
                            "      <td>999</td>\n",
                            "      <td>0</td>\n",
                            "      <td>1</td>\n",
                            "      <td>1.1</td>\n",
                            "      <td>93.994</td>\n",
                            "      <td>-36.4</td>\n",
                            "      <td>4.856</td>\n",
                            "      <td>5191.0</td>\n",
                            "      <td>0</td>\n",
                            "    </tr>\n",
                            "    <tr>\n",
                            "      <th>17316</th>\n",
                            "      <td>4</td>\n",
                            "      <td>4</td>\n",
                            "      <td>1</td>\n",
                            "      <td>1</td>\n",
                            "      <td>0</td>\n",
                            "      <td>1</td>\n",
                            "      <td>0</td>\n",
                            "      <td>1</td>\n",
                            "      <td>7</td>\n",
                            "      <td>5</td>\n",
                            "      <td>...</td>\n",
                            "      <td>9</td>\n",
                            "      <td>999</td>\n",
                            "      <td>0</td>\n",
                            "      <td>1</td>\n",
                            "      <td>1.4</td>\n",
                            "      <td>93.918</td>\n",
                            "      <td>-42.7</td>\n",
                            "      <td>4.962</td>\n",
                            "      <td>5228.1</td>\n",
                            "      <td>0</td>\n",
                            "    </tr>\n",
                            "    <tr>\n",
                            "      <th>8365</th>\n",
                            "      <td>3</td>\n",
                            "      <td>4</td>\n",
                            "      <td>1</td>\n",
                            "      <td>1</td>\n",
                            "      <td>0</td>\n",
                            "      <td>0</td>\n",
                            "      <td>0</td>\n",
                            "      <td>1</td>\n",
                            "      <td>6</td>\n",
                            "      <td>2</td>\n",
                            "      <td>...</td>\n",
                            "      <td>6</td>\n",
                            "      <td>999</td>\n",
                            "      <td>0</td>\n",
                            "      <td>1</td>\n",
                            "      <td>1.4</td>\n",
                            "      <td>94.465</td>\n",
                            "      <td>-41.8</td>\n",
                            "      <td>4.864</td>\n",
                            "      <td>5228.1</td>\n",
                            "      <td>0</td>\n",
                            "    </tr>\n",
                            "    <tr>\n",
                            "      <th>39555</th>\n",
                            "      <td>3</td>\n",
                            "      <td>3</td>\n",
                            "      <td>2</td>\n",
                            "      <td>3</td>\n",
                            "      <td>0</td>\n",
                            "      <td>1</td>\n",
                            "      <td>0</td>\n",
                            "      <td>2</td>\n",
                            "      <td>4</td>\n",
                            "      <td>4</td>\n",
                            "      <td>...</td>\n",
                            "      <td>3</td>\n",
                            "      <td>999</td>\n",
                            "      <td>0</td>\n",
                            "      <td>1</td>\n",
                            "      <td>-1.8</td>\n",
                            "      <td>93.749</td>\n",
                            "      <td>-34.6</td>\n",
                            "      <td>0.659</td>\n",
                            "      <td>5008.7</td>\n",
                            "      <td>1</td>\n",
                            "    </tr>\n",
                            "    <tr>\n",
                            "      <th>23185</th>\n",
                            "      <td>3</td>\n",
                            "      <td>5</td>\n",
                            "      <td>1</td>\n",
                            "      <td>2</td>\n",
                            "      <td>0</td>\n",
                            "      <td>1</td>\n",
                            "      <td>0</td>\n",
                            "      <td>2</td>\n",
                            "      <td>8</td>\n",
                            "      <td>2</td>\n",
                            "      <td>...</td>\n",
                            "      <td>14</td>\n",
                            "      <td>999</td>\n",
                            "      <td>0</td>\n",
                            "      <td>1</td>\n",
                            "      <td>1.4</td>\n",
                            "      <td>93.444</td>\n",
                            "      <td>-36.1</td>\n",
                            "      <td>4.965</td>\n",
                            "      <td>5228.1</td>\n",
                            "      <td>0</td>\n",
                            "    </tr>\n",
                            "    <tr>\n",
                            "      <th>3510</th>\n",
                            "      <td>3</td>\n",
                            "      <td>4</td>\n",
                            "      <td>1</td>\n",
                            "      <td>1</td>\n",
                            "      <td>0</td>\n",
                            "      <td>0</td>\n",
                            "      <td>0</td>\n",
                            "      <td>1</td>\n",
                            "      <td>5</td>\n",
                            "      <td>4</td>\n",
                            "      <td>...</td>\n",
                            "      <td>2</td>\n",
                            "      <td>999</td>\n",
                            "      <td>0</td>\n",
                            "      <td>1</td>\n",
                            "      <td>1.1</td>\n",
                            "      <td>93.994</td>\n",
                            "      <td>-36.4</td>\n",
                            "      <td>4.860</td>\n",
                            "      <td>5191.0</td>\n",
                            "      <td>0</td>\n",
                            "    </tr>\n",
                            "    <tr>\n",
                            "      <th>11803</th>\n",
                            "      <td>2</td>\n",
                            "      <td>4</td>\n",
                            "      <td>2</td>\n",
                            "      <td>1</td>\n",
                            "      <td>0</td>\n",
                            "      <td>1</td>\n",
                            "      <td>0</td>\n",
                            "      <td>1</td>\n",
                            "      <td>6</td>\n",
                            "      <td>5</td>\n",
                            "      <td>...</td>\n",
                            "      <td>10</td>\n",
                            "      <td>999</td>\n",
                            "      <td>0</td>\n",
                            "      <td>1</td>\n",
                            "      <td>1.4</td>\n",
                            "      <td>94.465</td>\n",
                            "      <td>-41.8</td>\n",
                            "      <td>4.959</td>\n",
                            "      <td>5228.1</td>\n",
                            "      <td>0</td>\n",
                            "    </tr>\n",
                            "    <tr>\n",
                            "      <th>6686</th>\n",
                            "      <td>4</td>\n",
                            "      <td>7</td>\n",
                            "      <td>1</td>\n",
                            "      <td>1</td>\n",
                            "      <td>0</td>\n",
                            "      <td>0</td>\n",
                            "      <td>0</td>\n",
                            "      <td>1</td>\n",
                            "      <td>5</td>\n",
                            "      <td>3</td>\n",
                            "      <td>...</td>\n",
                            "      <td>2</td>\n",
                            "      <td>999</td>\n",
                            "      <td>0</td>\n",
                            "      <td>1</td>\n",
                            "      <td>1.1</td>\n",
                            "      <td>93.994</td>\n",
                            "      <td>-36.4</td>\n",
                            "      <td>4.857</td>\n",
                            "      <td>5191.0</td>\n",
                            "      <td>0</td>\n",
                            "    </tr>\n",
                            "    <tr>\n",
                            "      <th>32594</th>\n",
                            "      <td>3</td>\n",
                            "      <td>2</td>\n",
                            "      <td>1</td>\n",
                            "      <td>2</td>\n",
                            "      <td>0</td>\n",
                            "      <td>1</td>\n",
                            "      <td>0</td>\n",
                            "      <td>2</td>\n",
                            "      <td>5</td>\n",
                            "      <td>1</td>\n",
                            "      <td>...</td>\n",
                            "      <td>1</td>\n",
                            "      <td>999</td>\n",
                            "      <td>0</td>\n",
                            "      <td>1</td>\n",
                            "      <td>-1.8</td>\n",
                            "      <td>92.893</td>\n",
                            "      <td>-46.2</td>\n",
                            "      <td>1.299</td>\n",
                            "      <td>5099.1</td>\n",
                            "      <td>0</td>\n",
                            "    </tr>\n",
                            "    <tr>\n",
                            "      <th>15125</th>\n",
                            "      <td>3</td>\n",
                            "      <td>7</td>\n",
                            "      <td>1</td>\n",
                            "      <td>3</td>\n",
                            "      <td>0</td>\n",
                            "      <td>1</td>\n",
                            "      <td>1</td>\n",
                            "      <td>2</td>\n",
                            "      <td>7</td>\n",
                            "      <td>4</td>\n",
                            "      <td>...</td>\n",
                            "      <td>2</td>\n",
                            "      <td>999</td>\n",
                            "      <td>0</td>\n",
                            "      <td>1</td>\n",
                            "      <td>1.4</td>\n",
                            "      <td>93.918</td>\n",
                            "      <td>-42.7</td>\n",
                            "      <td>4.958</td>\n",
                            "      <td>5228.1</td>\n",
                            "      <td>0</td>\n",
                            "    </tr>\n",
                            "  </tbody>\n",
                            "</table>\n",
                            "<p>15 rows × 21 columns</p>\n",
                            "</div>"
                        ],
                        "text/plain": [
                            "      age  job  marital  education  default  housing  loan  contact  month  \\\n",
                            "7838    4    5        1          2        0        0     0        1      6   \n",
                            "18251   2    3        2          2        0        1     1        2      7   \n",
                            "20864   3    3        2          2        0        1     0        2      8   \n",
                            "25713   3    7        2          2        0        0     0        2     11   \n",
                            "20641   4    5        3          2        0        0     0        2      8   \n",
                            "808     2    3        2          2        0        0     0        1      5   \n",
                            "17316   4    4        1          1        0        1     0        1      7   \n",
                            "8365    3    4        1          1        0        0     0        1      6   \n",
                            "39555   3    3        2          3        0        1     0        2      4   \n",
                            "23185   3    5        1          2        0        1     0        2      8   \n",
                            "3510    3    4        1          1        0        0     0        1      5   \n",
                            "11803   2    4        2          1        0        1     0        1      6   \n",
                            "6686    4    7        1          1        0        0     0        1      5   \n",
                            "32594   3    2        1          2        0        1     0        2      5   \n",
                            "15125   3    7        1          3        0        1     1        2      7   \n",
                            "\n",
                            "       day_of_week  ...  campaign  pdays  previous  poutcome  emp.var.rate  \\\n",
                            "7838             1  ...         3    999         0         1           1.4   \n",
                            "18251            3  ...         3    999         0         1           1.4   \n",
                            "20864            4  ...         2    999         0         1           1.4   \n",
                            "25713            3  ...         3    999         0         1          -0.1   \n",
                            "20641            3  ...         2    999         0         1           1.4   \n",
                            "808              3  ...         2    999         0         1           1.1   \n",
                            "17316            5  ...         9    999         0         1           1.4   \n",
                            "8365             2  ...         6    999         0         1           1.4   \n",
                            "39555            4  ...         3    999         0         1          -1.8   \n",
                            "23185            2  ...        14    999         0         1           1.4   \n",
                            "3510             4  ...         2    999         0         1           1.1   \n",
                            "11803            5  ...        10    999         0         1           1.4   \n",
                            "6686             3  ...         2    999         0         1           1.1   \n",
                            "32594            1  ...         1    999         0         1          -1.8   \n",
                            "15125            4  ...         2    999         0         1           1.4   \n",
                            "\n",
                            "       cons.price.idx  cons.conf.idx  euribor3m  nr.employed  y  \n",
                            "7838           94.465          -41.8      4.865       5228.1  0  \n",
                            "18251          93.918          -42.7      4.963       5228.1  0  \n",
                            "20864          93.444          -36.1      4.964       5228.1  0  \n",
                            "25713          93.200          -42.0      4.120       5195.8  0  \n",
                            "20641          93.444          -36.1      4.965       5228.1  0  \n",
                            "808            93.994          -36.4      4.856       5191.0  0  \n",
                            "17316          93.918          -42.7      4.962       5228.1  0  \n",
                            "8365           94.465          -41.8      4.864       5228.1  0  \n",
                            "39555          93.749          -34.6      0.659       5008.7  1  \n",
                            "23185          93.444          -36.1      4.965       5228.1  0  \n",
                            "3510           93.994          -36.4      4.860       5191.0  0  \n",
                            "11803          94.465          -41.8      4.959       5228.1  0  \n",
                            "6686           93.994          -36.4      4.857       5191.0  0  \n",
                            "32594          92.893          -46.2      1.299       5099.1  0  \n",
                            "15125          93.918          -42.7      4.958       5228.1  0  \n",
                            "\n",
                            "[15 rows x 21 columns]"
                        ]
                    },
                    "execution_count": 139,
                    "metadata": {},
                    "output_type": "execute_result"
                }
            ],
            "source": [
                "#basic.9y','basic.6y','basic4y' into 'middle_school'\n",
                "cleanup_nums = {\"marital\":     {\"married\": 1, \"single\": 2, 'divorced':3},\n",
                "               \"education\": {\"basic.4y\": 1, \"high.school\": 2, \"basic.6y\": 1, \"basic.9y\": 1, \"professional.course\": 2, \"university.degree\": 3, \"illiterate\":4 }, \n",
                "               \"default\": {'no':0,'yes':1}, \"housing\": {'no':0,'yes':1}, \"loan\": {'no':0,'yes':1},\n",
                "               \"contact\": {'telephone':1,'cellular':2}, \n",
                "               \"month\": {'may':5, 'jun':6, 'jul':7, 'aug':8, 'oct':10, 'nov':11, 'dec':12, 'mar':3, 'apr':4,'sep':9},\n",
                "               \"day_of_week\": {'mon':1, 'tue':2, 'wed':3, 'thu':4, 'fri':5},\n",
                "               \"poutcome\" : {'nonexistent':1, 'failure':2, 'success':3},\n",
                "               \"job\" : {'housemaid':1, 'services':2, 'admin.':3, 'blue-collar':4, 'technician':5, 'retired':6, 'management':7, 'unemployed':8, 'self-employed':9, 'entrepreneur':10, 'student':11},\n",
                "               \"y\": {'no':0,'yes':1},\n",
                "               }\n",
                "#encoding the feature\n",
                "df_transf = df.replace(cleanup_nums)\n",
                "\n",
                "#create the group of age\n",
                "df_transf['age'] = pd.cut(df_transf['age'],bins=[10,20,30,40,50,60,70,80,90,100],labels=[1,2,3,4,5,6,7,8,9])\n",
                "df_transf.sample(15)\n"
            ]
        },
        {
            "cell_type": "code",
            "execution_count": 140,
            "metadata": {},
            "outputs": [],
            "source": [
                "df= df_transf.copy()"
            ]
        },
        {
            "cell_type": "markdown",
            "metadata": {},
            "source": [
                "### Is your data balanced or imbalanced?"
            ]
        },
        {
            "cell_type": "code",
            "execution_count": 141,
            "metadata": {},
            "outputs": [
                {
                    "data": {
                        "image/png": "[encoded data removed]",
                        "text/plain": [
                            "<Figure size 432x288 with 1 Axes>"
                        ]
                    },
                    "metadata": {
                        "needs_background": "light"
                    },
                    "output_type": "display_data"
                }
            ],
            "source": [
                "#df['y'].value_counts()\n",
                "data = df.sort_values(by=['y'])\n",
                "data['y'].value_counts().plot(kind = 'bar')\n",
                "plt.title('y')\n",
                "plt.show()"
            ]
        },
        {
            "cell_type": "code",
            "execution_count": 142,
            "metadata": {},
            "outputs": [
                {
                    "data": {
                        "text/plain": [
                            "0    36536\n",
                            "1     4639\n",
                            "Name: y, dtype: int64"
                        ]
                    },
                    "execution_count": 142,
                    "metadata": {},
                    "output_type": "execute_result"
                }
            ],
            "source": [
                "df['y'].value_counts()"
            ]
        },
        {
            "cell_type": "code",
            "execution_count": null,
            "metadata": {},
            "outputs": [],
            "source": []
        },
        {
            "cell_type": "markdown",
            "metadata": {},
            "source": [
                "### IMPORTANT: not balanced data of target column"
            ]
        },
        {
            "cell_type": "code",
            "execution_count": 143,
            "metadata": {},
            "outputs": [
                {
                    "data": {
                        "text/plain": [
                            "0    100\n",
                            "Name: y, dtype: int64"
                        ]
                    },
                    "execution_count": 143,
                    "metadata": {},
                    "output_type": "execute_result"
                }
            ],
            "source": [
                "# Take sample\n",
                "df_sample = df.sample(100)\n",
                "df_sample['y'] = df_sample['y'].apply(lambda x: 1 if x == 'yes' else 0) \n",
                "df_sample['y'].value_counts()\n"
            ]
        },
        {
            "cell_type": "code",
            "execution_count": 144,
            "metadata": {},
            "outputs": [],
            "source": [
                "#make a l"
            ]
        },
        {
            "cell_type": "code",
            "execution_count": 145,
            "metadata": {},
            "outputs": [
                {
                    "name": "stdout",
                    "output_type": "stream",
                    "text": [
                        "Sample mean (Expected Value):  4.44\n",
                        "Population mean:  4.561190042501518\n",
                        "Bias:  -0.12119004250151733\n"
                    ]
                },
                {
                    "name": "stderr",
                    "output_type": "stream",
                    "text": [
                        "/tmp/ipykernel_1909/1227502573.py:2: FutureWarning: Dropping of nuisance columns in DataFrame reductions (with 'numeric_only=None') is deprecated; in a future version this will raise TypeError.  Select only valid columns before calling the reduction.\n",
                        "  ev = df_sample.mean()[0]\n",
                        "/tmp/ipykernel_1909/1227502573.py:3: FutureWarning: Dropping of nuisance columns in DataFrame reductions (with 'numeric_only=None') is deprecated; in a future version this will raise TypeError.  Select only valid columns before calling the reduction.\n",
                        "  pop_mean = df.mean()[0]\n"
                    ]
                }
            ],
            "source": [
                "# Calculate Expected Value (EV), population mean and bias\n",
                "ev = df_sample.mean()[0]\n",
                "pop_mean = df.mean()[0]\n",
                "bias = ev - pop_mean\n",
                "\n",
                "print('Sample mean (Expected Value): ', ev)\n",
                "print('Population mean: ', pop_mean)\n",
                "print('Bias: ', bias)"
            ]
        },
        {
            "cell_type": "markdown",
            "metadata": {},
            "source": [
                "## Logistic Regression"
            ]
        },
        {
            "cell_type": "markdown",
            "metadata": {},
            "source": []
        },
        {
            "cell_type": "code",
            "execution_count": 146,
            "metadata": {},
            "outputs": [],
            "source": [
                "\n",
                "from sklearn.linear_model import LogisticRegression\n",
                "from sklearn.model_selection import train_test_split\n",
                "from sklearn.metrics import accuracy_score, confusion_matrix\n",
                "from sklearn.metrics import roc_curve, roc_auc_score, precision_score, recall_score, precision_recall_curve\n",
                "from sklearn.metrics import f1_score\n",
                "from sklearn.preprocessing import MinMaxScaler\n"
            ]
        },
        {
            "cell_type": "code",
            "execution_count": 147,
            "metadata": {},
            "outputs": [],
            "source": [
                "# split dataset into x,y\n",
                "X = df.drop('y',axis=1)\n",
                "y = df['y']\n",
                "# train-test split\n",
                "X_train, X_test, y_train, y_test = train_test_split(X, y, test_size=0.3, random_state=13)\n",
                "\n",
                "scaler = MinMaxScaler() #saga solver requires features to be scaled for model conversion\n",
                "X_train = scaler.fit_transform(X_train)\n",
                "X_test = scaler.transform(X_test)"
            ]
        },
        {
            "cell_type": "markdown",
            "metadata": {},
            "source": [
                "### without weights, and with duration column"
            ]
        },
        {
            "cell_type": "code",
            "execution_count": 148,
            "metadata": {},
            "outputs": [
                {
                    "name": "stdout",
                    "output_type": "stream",
                    "text": [
                        "Accuracy Score: 0.9093337650773091\n",
                        "Confusion Matrix: \n",
                        "[[10734   237]\n",
                        " [  883   499]]\n",
                        "Area Under Curve: 0.669734252689072\n",
                        "Recall score: 0.36107091172214184\n"
                    ]
                }
            ],
            "source": [
                "# define model\n",
                "#Convergence problem:\n",
                "#   opt1: increase the max_iter because if not generate an error of convergence should set to 3000 to solve\n",
                "#   opt2: making the transformation MinMaxScaler before to solve :-), reduce to max_iter=100\n",
                "\n",
                "lg1 = LogisticRegression(random_state=13, class_weight=None, max_iter=100)\n",
                "# fit it\n",
                "lg1.fit(X_train,y_train)\n",
                "# test\n",
                "y_pred = lg1.predict(X_test)\n",
                "# performance\n",
                "print(f'Accuracy Score: {accuracy_score(y_test,y_pred)}')\n",
                "print(f'Confusion Matrix: \\n{confusion_matrix(y_test, y_pred)}')\n",
                "print(f'Area Under Curve: {roc_auc_score(y_test, y_pred)}')\n",
                "print(f'Recall score: {recall_score(y_test,y_pred)}')"
            ]
        },
        {
            "cell_type": "markdown",
            "metadata": {},
            "source": [
                "837 of the minority class wrong classified\n",
                "Recall score is slow"
            ]
        },
        {
            "cell_type": "code",
            "execution_count": 149,
            "metadata": {},
            "outputs": [
                {
                    "name": "stdout",
                    "output_type": "stream",
                    "text": [
                        "Class Probability of the data input\n",
                        "[[0.06828186 0.93171814]\n",
                        " [0.00489621 0.99510379]\n",
                        " [0.89536524 0.10463476]\n",
                        " ...\n",
                        " [0.79900276 0.20099724]\n",
                        " [0.95509131 0.04490869]\n",
                        " [0.72247188 0.27752812]]\n"
                    ]
                },
                {
                    "data": {
                        "image/png": "[encoded data removed]",
                        "text/plain": [
                            "<Figure size 360x360 with 1 Axes>"
                        ]
                    },
                    "metadata": {
                        "needs_background": "light"
                    },
                    "output_type": "display_data"
                },
                {
                    "data": {
                        "image/png": "[encoded data removed]",
                        "text/plain": [
                            "<Figure size 360x360 with 1 Axes>"
                        ]
                    },
                    "metadata": {
                        "needs_background": "light"
                    },
                    "output_type": "display_data"
                }
            ],
            "source": [
                "from sklearn.metrics import roc_curve\n",
                "from sklearn.metrics import RocCurveDisplay\n",
                "\n",
                "def plot_sklearn_roc_curve(y_real, y_pred):\n",
                "    fpr, tpr, _ = roc_curve(y_real, y_pred)\n",
                "    roc_display = RocCurveDisplay(fpr=fpr, tpr=tpr).plot()\n",
                "    roc_display.figure_.set_size_inches(5,5)\n",
                "    plt.plot([0, 1], [0, 1], color = 'g')\n",
                "\n",
                "# Plots the ROC curve using the sklearn methods - Good plot\n",
                "y_proba = lg2.predict_proba(X_test)\n",
                "print(\"Class Probability of the data input\")\n",
                "print(y_proba)\n",
                "plot_sklearn_roc_curve(y_test, y_proba[:, 1])\n",
                "# Plots the ROC curve using the sklearn methods - Bad plot\n",
                "plot_sklearn_roc_curve(y_test, y_pred)"
            ]
        },
        {
            "cell_type": "markdown",
            "metadata": {},
            "source": [
                "### using weights, include duration column"
            ]
        },
        {
            "cell_type": "code",
            "execution_count": 160,
            "metadata": {},
            "outputs": [
                {
                    "name": "stdout",
                    "output_type": "stream",
                    "text": [
                        "Accuracy Score: 0.8346960252570226\n",
                        "Confusion Matrix: \n",
                        "[[9099 1872]\n",
                        " [ 170 1212]]\n",
                        "Area Under Curve: 0.853179102227277\n",
                        "Recall score: 0.8769898697539797\n"
                    ]
                }
            ],
            "source": [
                "# define class weights\n",
                "w = {0: 1, 1: 10}\n",
                "\n",
                "# define model\n",
                "lg2 = LogisticRegression(random_state=13, class_weight=w, solver='lbfgs', max_iter=300)\n",
                "\n",
                "# fit it\n",
                "lg2.fit(X_train,y_train)\n",
                "\n",
                "# test\n",
                "y_pred = lg2.predict(X_test)\n",
                "# performance\n",
                "print(f'Accuracy Score: {accuracy_score(y_test,y_pred)}')\n",
                "print(f'Confusion Matrix: \\n{confusion_matrix(y_test, y_pred)}')\n",
                "print(f'Area Under Curve: {roc_auc_score(y_test, y_pred)}')\n",
                "print(f'Recall score: {recall_score(y_test,y_pred)}')"
            ]
        },
        {
            "cell_type": "markdown",
            "metadata": {},
            "source": [
                "if we change the weights we can improve the model.\n",
                "You should balance, if we set 1:50, improve the recall, but the accuracy is low.\n",
                "The relation of amout of yes-no is 1 a 8 aprox, so 1:10 it can be the best\n",
                "After investigate use the grid to find the best, but not change significant\n",
                "\n",
                "Using 0: 100, 1: 1000\n",
                "\n",
                "Accuracy Score: 0.836396017161823\n",
                "Confusion Matrix: \n",
                "[[9119 1852]\n",
                " [ 169 1213]]\n",
                "Area Under Curve: 0.854452390666566\n",
                "Recall score: 0.877713458755427\n"
            ]
        },
        {
            "cell_type": "code",
            "execution_count": 159,
            "metadata": {},
            "outputs": [
                {
                    "data": {
                        "image/png": "[encoded data removed]",
                        "text/plain": [
                            "<Figure size 360x360 with 1 Axes>"
                        ]
                    },
                    "metadata": {
                        "needs_background": "light"
                    },
                    "output_type": "display_data"
                },
                {
                    "data": {
                        "image/png": "[encoded data removed]",
                        "text/plain": [
                            "<Figure size 360x360 with 1 Axes>"
                        ]
                    },
                    "metadata": {
                        "needs_background": "light"
                    },
                    "output_type": "display_data"
                }
            ],
            "source": [
                "from sklearn.metrics import roc_curve\n",
                "from sklearn.metrics import RocCurveDisplay\n",
                "\n",
                "def plot_sklearn_roc_curve(y_real, y_pred):\n",
                "    fpr, tpr, _ = roc_curve(y_real, y_pred)\n",
                "    roc_display = RocCurveDisplay(fpr=fpr, tpr=tpr).plot()\n",
                "    roc_display.figure_.set_size_inches(5,5)\n",
                "    plt.plot([0, 1], [0, 1], color = 'g')\n",
                "\n",
                "# Plots the ROC curve using the sklearn methods - Good plot\n",
                "y_proba = lg2.predict_proba(X_test)\n",
                "plot_sklearn_roc_curve(y_test, y_proba[:, 1])\n",
                "# Plots the ROC curve using the sklearn methods - Bad plot\n",
                "plot_sklearn_roc_curve(y_test, y_pred)"
            ]
        },
        {
            "cell_type": "markdown",
            "metadata": {},
            "source": [
                "## drop duration column\n",
                "check if the result have relation with the duration features"
            ]
        },
        {
            "cell_type": "code",
            "execution_count": 152,
            "metadata": {},
            "outputs": [],
            "source": [
                "X_wd = X.drop('duration',axis=1)\n",
                "X2_train, X2_test, y2_train, y2_test = train_test_split(X_wd, y, test_size=0.3, random_state=13)\n",
                "\n",
                "scaler = MinMaxScaler() #saga solver requires features to be scaled for model conversion\n",
                "X2_train = scaler.fit_transform(X2_train)\n",
                "X2_test = scaler.transform(X2_test)\n"
            ]
        },
        {
            "cell_type": "markdown",
            "metadata": {},
            "source": [
                "### without weights, without duration column"
            ]
        },
        {
            "cell_type": "code",
            "execution_count": 153,
            "metadata": {},
            "outputs": [
                {
                    "name": "stdout",
                    "output_type": "stream",
                    "text": [
                        "Accuracy Score: 0.9008338055533069\n",
                        "Confusion Matrix: \n",
                        "[[10842   129]\n",
                        " [ 1096   286]]\n",
                        "Area Under Curve: 0.5975940913032003\n",
                        "Recall score: 0.20694645441389292\n"
                    ]
                }
            ],
            "source": [
                "# define model\n",
                "lg3 = LogisticRegression(random_state=13, solver='lbfgs', max_iter=500)\n",
                "\n",
                "# fit it\n",
                "lg3.fit(X2_train,y2_train)\n",
                "\n",
                "# test\n",
                "y2_pred = lg3.predict(X2_test)\n",
                "# performance\n",
                "print(f'Accuracy Score: {accuracy_score(y2_test,y2_pred)}')\n",
                "print(f'Confusion Matrix: \\n{confusion_matrix(y2_test, y2_pred)}')\n",
                "print(f'Area Under Curve: {roc_auc_score(y2_test, y2_pred)}')\n",
                "print(f'Recall score: {recall_score(y2_test,y2_pred)}')"
            ]
        },
        {
            "cell_type": "markdown",
            "metadata": {},
            "source": [
                "without duration go down the recall"
            ]
        },
        {
            "cell_type": "markdown",
            "metadata": {},
            "source": [
                "### using weights, without duration column"
            ]
        },
        {
            "cell_type": "code",
            "execution_count": 154,
            "metadata": {},
            "outputs": [
                {
                    "name": "stdout",
                    "output_type": "stream",
                    "text": [
                        "Accuracy Score: 0.738767910628997\n",
                        "Confusion Matrix: \n",
                        "[[8171 2800]\n",
                        " [ 427  955]]\n",
                        "Area Under Curve: 0.7179045967918843\n",
                        "Recall score: 0.691027496382055\n"
                    ]
                }
            ],
            "source": [
                "# define class weights\n",
                "w = {0:1, 1:10}\n",
                "\n",
                "# define model\n",
                "lg4 = LogisticRegression(random_state=13, class_weight=w, solver='lbfgs', max_iter=500)\n",
                "\n",
                "# fit it\n",
                "lg4.fit(X2_train,y2_train)\n",
                "\n",
                "# test\n",
                "y2_pred = lg4.predict(X2_test)\n",
                "# performance\n",
                "print(f'Accuracy Score: {accuracy_score(y2_test,y2_pred)}')\n",
                "print(f'Confusion Matrix: \\n{confusion_matrix(y2_test, y2_pred)}')\n",
                "print(f'Area Under Curve: {roc_auc_score(y2_test, y2_pred)}')\n",
                "print(f'Recall score: {recall_score(y2_test,y2_pred)}')"
            ]
        },
        {
            "cell_type": "markdown",
            "metadata": {},
            "source": [
                "# Using Grid to find the best Weight"
            ]
        },
        {
            "cell_type": "code",
            "execution_count": 155,
            "metadata": {},
            "outputs": [],
            "source": [
                "from sklearn.model_selection import GridSearchCV"
            ]
        },
        {
            "cell_type": "code",
            "execution_count": 156,
            "metadata": {},
            "outputs": [],
            "source": [
                "# define weight hyperparameter\n",
                "w = [{0:1000,1:100},{0:1000,1:10}, {0:1000,1:1.0}, \n",
                "     {0:500,1:1.0}, {0:400,1:1.0}, {0:300,1:1.0}, {0:200,1:1.0}, \n",
                "     {0:150,1:1.0}, {0:100,1:1.0}, {0:99,1:1.0}, {0:10,1:1.0}, \n",
                "     {0:0.01,1:1.0}, {0:0.01,1:10}, {0:0.01,1:100}, \n",
                "     {0:0.001,1:1.0}, {0:0.005,1:1.0}, {0:1.0,1:1.0}, \n",
                "     {0:1.0,1:0.1}, {0:10,1:0.1}, {0:100,1:0.1}, \n",
                "     {0:10,1:0.01}, {0:1.0,1:0.01}, {0:1.0,1:0.001}, {0:1.0,1:0.005}, \n",
                "     {0:1.0,1:10}, {0:1.0,1:99}, {0:1.0,1:100}, {0:1.0,1:150}, \n",
                "     {0:1.0,1:200}, {0:1.0,1:300},{0:1.0,1:400},{0:1.0,1:500}, \n",
                "     {0:1.0,1:1000}, {0:10,1:1000},{0:100,1:1000} ]\n",
                "hyperparam_grid = {\"class_weight\": w }"
            ]
        },
        {
            "cell_type": "code",
            "execution_count": 157,
            "metadata": {},
            "outputs": [
                {
                    "name": "stdout",
                    "output_type": "stream",
                    "text": [
                        "Best score: 0.929785113311423 with param: {'class_weight': {0: 100, 1: 1000}}\n"
                    ]
                }
            ],
            "source": [
                "# define model\n",
                "lg5 = LogisticRegression(random_state=13,solver='lbfgs', max_iter=500)\n",
                "# define evaluation procedure\n",
                "grid = GridSearchCV(lg5,hyperparam_grid,scoring=\"roc_auc\", cv=100, n_jobs=-1, refit=True)\n",
                "grid.fit(X_train,y_train)\n",
                "print(f'Best score: {grid.best_score_} with param: {grid.best_params_}')"
            ]
        },
        {
            "cell_type": "code",
            "execution_count": 162,
            "metadata": {},
            "outputs": [
                {
                    "name": "stdout",
                    "output_type": "stream",
                    "text": [
                        "[0.25       0.3        0.5        0.33333333 0.         1.\n",
                        " 0.         1.         0.22222222 0.75       0.00345669 0.0952381\n",
                        " 1.         0.         0.         0.33333333 0.26968044 0.19246862\n",
                        " 0.14327817 0.51228733]\n"
                    ]
                }
            ],
            "source": [
                "print(X_test[15])"
            ]
        }
    ],
    "metadata": {
        "kernelspec": {
            "display_name": "Python 3.8.13 64-bit ('3.8.13')",
            "language": "python",
            "name": "python3"
        },
        "language_info": {
            "codemirror_mode": {
                "name": "ipython",
                "version": 3
            },
            "file_extension": ".py",
            "mimetype": "text/x-python",
            "name": "python",
            "nbconvert_exporter": "python",
            "pygments_lexer": "ipython3",
            "version": "3.8.13"
        },
        "orig_nbformat": 4,
        "vscode": {
            "interpreter": {
                "hash": "110cc1dee26208153f2972f08a2ad52b6a56238dc66d48e87fb757ef2996db56"
            }
        }
    },
    "nbformat": 4,
    "nbformat_minor": 2
}
